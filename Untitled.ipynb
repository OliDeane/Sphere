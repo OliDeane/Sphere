{
 "cells": [
  {
   "cell_type": "markdown",
   "metadata": {},
   "source": [
    "Random code I may need later: "
   ]
  },
  {
   "cell_type": "code",
   "execution_count": null,
   "metadata": {},
   "outputs": [],
   "source": [
    "scores = cross_validate(model, X, y, cv=5, scoring=(\"r2\",\"neg_mean_absolute_error\", \"neg_mean_squared_error\"))\n",
    "\n",
    "#Compute error metrics\n",
    "MAE = scores[\"test_neg_mean_absolute_error\"].mean() * -1\n",
    "MSE = scores['test_neg_mean_absolute_error'].mean() * -1\n",
    "R2 = scores['test_r2'].mean()\n"
   ]
  }
 ],
 "metadata": {
  "kernelspec": {
   "display_name": "Python 3",
   "language": "python",
   "name": "python3"
  },
  "language_info": {
   "codemirror_mode": {
    "name": "ipython",
    "version": 3
   },
   "file_extension": ".py",
   "mimetype": "text/x-python",
   "name": "python",
   "nbconvert_exporter": "python",
   "pygments_lexer": "ipython3",
   "version": "3.7.9"
  }
 },
 "nbformat": 4,
 "nbformat_minor": 4
}
