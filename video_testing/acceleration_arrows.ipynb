{
 "cells": [
  {
   "cell_type": "code",
   "execution_count": 48,
   "metadata": {},
   "outputs": [],
   "source": [
    "import numpy as np\n",
    "from matplotlib import pyplot as plt\n",
    "import matplotlib.image as image\n",
    "import matplotlib.patches as patches\n",
    "import matplotlib.animation as animation\n",
    "from matplotlib.animation import FuncAnimation\n",
    "from IPython.display import HTML\n",
    "import pandas as pd\n",
    "import matplotlib.patches as patches\n",
    "%matplotlib qt"
   ]
  },
  {
   "cell_type": "code",
   "execution_count": 2,
   "metadata": {},
   "outputs": [],
   "source": [
    "# Load preprocessed data and targets\n",
    "data = pd.read_csv('../data/train/00001/columns_1000ms.csv')\n",
    "targets = pd.read_csv('../data/train/00001/targets.csv')"
   ]
  },
  {
   "cell_type": "code",
   "execution_count": 3,
   "metadata": {},
   "outputs": [],
   "source": [
    "accelerations = data[['acceleration_x_mean',\n",
    "                     'acceleration_y_mean',\n",
    "                     'acceleration_x_mean']]"
   ]
  },
  {
   "cell_type": "code",
   "execution_count": 12,
   "metadata": {},
   "outputs": [
    {
     "data": {
      "text/html": [
       "<div>\n",
       "<style scoped>\n",
       "    .dataframe tbody tr th:only-of-type {\n",
       "        vertical-align: middle;\n",
       "    }\n",
       "\n",
       "    .dataframe tbody tr th {\n",
       "        vertical-align: top;\n",
       "    }\n",
       "\n",
       "    .dataframe thead th {\n",
       "        text-align: right;\n",
       "    }\n",
       "</style>\n",
       "<table border=\"1\" class=\"dataframe\">\n",
       "  <thead>\n",
       "    <tr style=\"text-align: right;\">\n",
       "      <th></th>\n",
       "      <th>acceleration_x_mean</th>\n",
       "      <th>acceleration_y_mean</th>\n",
       "      <th>acceleration_x_mean</th>\n",
       "    </tr>\n",
       "  </thead>\n",
       "  <tbody>\n",
       "    <tr>\n",
       "      <th>0</th>\n",
       "      <td>0.939200</td>\n",
       "      <td>-0.279700</td>\n",
       "      <td>0.939200</td>\n",
       "    </tr>\n",
       "    <tr>\n",
       "      <th>1</th>\n",
       "      <td>0.938000</td>\n",
       "      <td>-0.281400</td>\n",
       "      <td>0.938000</td>\n",
       "    </tr>\n",
       "    <tr>\n",
       "      <th>2</th>\n",
       "      <td>0.940400</td>\n",
       "      <td>-0.276400</td>\n",
       "      <td>0.940400</td>\n",
       "    </tr>\n",
       "    <tr>\n",
       "      <th>3</th>\n",
       "      <td>0.944100</td>\n",
       "      <td>-0.268300</td>\n",
       "      <td>0.944100</td>\n",
       "    </tr>\n",
       "    <tr>\n",
       "      <th>4</th>\n",
       "      <td>0.942400</td>\n",
       "      <td>-0.260300</td>\n",
       "      <td>0.942400</td>\n",
       "    </tr>\n",
       "    <tr>\n",
       "      <th>...</th>\n",
       "      <td>...</td>\n",
       "      <td>...</td>\n",
       "      <td>...</td>\n",
       "    </tr>\n",
       "    <tr>\n",
       "      <th>1819</th>\n",
       "      <td>0.925700</td>\n",
       "      <td>-0.355400</td>\n",
       "      <td>0.925700</td>\n",
       "    </tr>\n",
       "    <tr>\n",
       "      <th>1820</th>\n",
       "      <td>0.914500</td>\n",
       "      <td>-0.363900</td>\n",
       "      <td>0.914500</td>\n",
       "    </tr>\n",
       "    <tr>\n",
       "      <th>1821</th>\n",
       "      <td>0.913800</td>\n",
       "      <td>-0.347200</td>\n",
       "      <td>0.913800</td>\n",
       "    </tr>\n",
       "    <tr>\n",
       "      <th>1822</th>\n",
       "      <td>0.925200</td>\n",
       "      <td>-0.356800</td>\n",
       "      <td>0.925200</td>\n",
       "    </tr>\n",
       "    <tr>\n",
       "      <th>1823</th>\n",
       "      <td>0.917444</td>\n",
       "      <td>-0.341889</td>\n",
       "      <td>0.917444</td>\n",
       "    </tr>\n",
       "  </tbody>\n",
       "</table>\n",
       "<p>1824 rows × 3 columns</p>\n",
       "</div>"
      ],
      "text/plain": [
       "      acceleration_x_mean  acceleration_y_mean  acceleration_x_mean\n",
       "0                0.939200            -0.279700             0.939200\n",
       "1                0.938000            -0.281400             0.938000\n",
       "2                0.940400            -0.276400             0.940400\n",
       "3                0.944100            -0.268300             0.944100\n",
       "4                0.942400            -0.260300             0.942400\n",
       "...                   ...                  ...                  ...\n",
       "1819             0.925700            -0.355400             0.925700\n",
       "1820             0.914500            -0.363900             0.914500\n",
       "1821             0.913800            -0.347200             0.913800\n",
       "1822             0.925200            -0.356800             0.925200\n",
       "1823             0.917444            -0.341889             0.917444\n",
       "\n",
       "[1824 rows x 3 columns]"
      ]
     },
     "execution_count": 12,
     "metadata": {},
     "output_type": "execute_result"
    }
   ],
   "source": [
    "accelerations"
   ]
  },
  {
   "cell_type": "code",
   "execution_count": 124,
   "metadata": {},
   "outputs": [],
   "source": [
    "def make_figure():\n",
    "    \"\"\" Set the figure for the animation \"\"\"\n",
    "    fig = plt.figure()\n",
    "    ax = plt.axes(xlim=(-1, 1), ylim=(-1, 1))\n",
    "    ax.axes.xaxis.set_ticks([])\n",
    "    ax.axes.yaxis.set_ticks([])\n",
    "    line, = ax.plot([], [], lw=3)\n",
    "    \n",
    "    return fig, ax, line,"
   ]
  },
  {
   "cell_type": "code",
   "execution_count": 129,
   "metadata": {},
   "outputs": [],
   "source": [
    "def init():\n",
    "    \"\"\" Initialise the figure \"\"\"\n",
    "    line.set_data([], [])\n",
    "    return line,\n",
    "\n",
    "def animate(i):\n",
    "    \"\"\" Generate each frame of the animation \"\"\"\n",
    "    \n",
    "    ax.clear()\n",
    "    ax.set_xlim(-1,1)\n",
    "    ax.set_ylim(-1,1)\n",
    "    ax.axes.xaxis.set_ticks([])\n",
    "    ax.axes.yaxis.set_ticks([])\n",
    "    \n",
    "    xacc = accelerations.iloc[i][0]\n",
    "    yacc = accelerations.iloc[i][1]\n",
    "    zacc = accelerations.iloc[i][2]\n",
    "    \n",
    "    \n",
    "    x_arr = patches.FancyArrow(0,0,0.866*xacc,0.5*xacc, width = 0.02,color = 'black')\n",
    "    y_arr = patches.FancyArrow(0,0,0.866*yacc,-0.5*yacc, width = 0.02, head_width=0.05,color = 'black')\n",
    "    z_arr = patches.FancyArrow(0,0,0,zacc, width = 0.02, head_width=0.05,color = 'black')\n",
    "    ax.add_patch(x_arr)\n",
    "    ax.add_patch(y_arr)\n",
    "    ax.add_patch(z_arr)\n",
    "\n",
    "    \n",
    "    return x_arr, y_arr, z_arr,"
   ]
  },
  {
   "cell_type": "code",
   "execution_count": 130,
   "metadata": {},
   "outputs": [],
   "source": [
    "def make_animation(fig, ax, line,):\n",
    "    \"\"\" Produce the animation \"\"\"\n",
    "\n",
    "    # frames = number of frames in animation, interval = time between frames in ms\n",
    "    anim = FuncAnimation(fig, animate, init_func=init,\n",
    "                         frames=1000, interval=100, blit=True)\n",
    "    return anim"
   ]
  },
  {
   "cell_type": "code",
   "execution_count": 131,
   "metadata": {},
   "outputs": [],
   "source": [
    "fig, ax, line, = make_figure()\n",
    "anim = make_animation(fig, ax, line,)"
   ]
  },
  {
   "cell_type": "code",
   "execution_count": null,
   "metadata": {},
   "outputs": [],
   "source": [
    "HTML(anim.to_html5_video())"
   ]
  }
 ],
 "metadata": {
  "kernelspec": {
   "display_name": "Python 3",
   "language": "python",
   "name": "python3"
  },
  "language_info": {
   "codemirror_mode": {
    "name": "ipython",
    "version": 3
   },
   "file_extension": ".py",
   "mimetype": "text/x-python",
   "name": "python",
   "nbconvert_exporter": "python",
   "pygments_lexer": "ipython3",
   "version": "3.8.5"
  }
 },
 "nbformat": 4,
 "nbformat_minor": 4
}
