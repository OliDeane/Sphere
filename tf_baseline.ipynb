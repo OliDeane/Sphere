{
 "metadata": {
  "language_info": {
   "codemirror_mode": {
    "name": "ipython",
    "version": 3
   },
   "file_extension": ".py",
   "mimetype": "text/x-python",
   "name": "python",
   "nbconvert_exporter": "python",
   "pygments_lexer": "ipython3",
   "version": "3.7.10"
  },
  "orig_nbformat": 2,
  "kernelspec": {
   "name": "python3",
   "display_name": "Python 3.7.10 64-bit ('sphere_env': conda)",
   "metadata": {
    "interpreter": {
     "hash": "12f125afc8efd513c25d70acea6d4b38b946f7657ea476a8017fedcf56b22786"
    }
   }
  }
 },
 "nbformat": 4,
 "nbformat_minor": 2,
 "cells": [
  {
   "cell_type": "code",
   "execution_count": 2,
   "metadata": {},
   "outputs": [
    {
     "output_type": "stream",
     "name": "stderr",
     "text": [
      "UsageError: Line magic function `%` not found.\n"
     ]
    }
   ],
   "source": [
    "# For number crunching\n",
    "import numpy as np\n",
    "import pandas as pd\n",
    "\n",
    "# For visualisation\n",
    "import matplotlib.pyplot as pl \n",
    "\n",
    "# For prediction \n",
    "import sklearn\n",
    "\n",
    "# Misc\n",
    "from itertools import cycle\n",
    "import json \n",
    "import os"
   ]
  },
  {
   "cell_type": "code",
   "execution_count": 4,
   "metadata": {},
   "outputs": [
    {
     "output_type": "stream",
     "name": "stdout",
     "text": [
      "  numpy version: 1.19.2\n pandas version: 1.2.3\n   json version: 2.0.9\nsklearn version: 0.24.1\n"
     ]
    }
   ],
   "source": [
    "print('  numpy version: {}'.format(np.__version__))\n",
    "print(' pandas version: {}'.format(pd.__version__))\n",
    "print('   json version: {}'.format(json.__version__))\n",
    "print('sklearn version: {}'.format(sklearn.__version__))"
   ]
  },
  {
   "cell_type": "code",
   "execution_count": 6,
   "metadata": {},
   "outputs": [],
   "source": [
    "import sys\n",
    "nb_dir = os.path.split(os.getcwd())\n",
    "nb_dir2 = nb_dir[0]+'/'+nb_dir[1]\n",
    "if nb_dir not in sys.path:\n",
    "    sys.path.append(nb_dir)\n",
    "if nb_dir2 not in sys.path:\n",
    "    sys.path.append(nb_dir2)\n",
    "\n",
    "public_data_path = nb_dir2+'/data' # \n",
    "\n",
    "# metadata_path = '/Users/fl20994/Documents/IAI_CDT/TB2/Applied_Data_Science/SPHERE/public_data/metadata'\n",
    "# metadata_path = '../public_data/metadata'\n",
    "metadata_path = nb_dir2+'/data/metadata'"
   ]
  },
  {
   "cell_type": "code",
   "execution_count": 10,
   "metadata": {},
   "outputs": [
    {
     "output_type": "stream",
     "name": "stdout",
     "text": [
      "Extracting features from training data.\n",
      "\n",
      "Starting feature extraction for train/00009\n",
      "Finished feature extraction for train/00009\n",
      "\n",
      "Starting feature extraction for train/00007\n",
      "Finished feature extraction for train/00007\n",
      "\n",
      "Starting feature extraction for train/00006\n",
      "Finished feature extraction for train/00006\n",
      "\n",
      "Starting feature extraction for train/00001\n",
      "Finished feature extraction for train/00001\n",
      "\n",
      "Starting feature extraction for train/00008\n",
      "Finished feature extraction for train/00008\n",
      "\n",
      "Starting feature extraction for train/00004\n",
      "Finished feature extraction for train/00004\n",
      "\n",
      "Starting feature extraction for train/00003\n",
      "Finished feature extraction for train/00003\n",
      "\n",
      "Starting feature extraction for train/00002\n",
      "Finished feature extraction for train/00002\n",
      "\n",
      "Starting feature extraction for train/00005\n",
      "Finished feature extraction for train/00005\n",
      "\n",
      "Starting feature extraction for train/00010\n",
      "Finished feature extraction for train/00010\n",
      "\n",
      "\n",
      "\n",
      "\n",
      "Extracting features from testing data.\n",
      "\n",
      "Starting feature extraction for test/00832\n",
      "Starting feature extraction for test/00633\n",
      "Starting feature extraction for test/00431\n",
      "Starting feature extraction for test/00383\n",
      "Starting feature extraction for test/00529\n",
      "Starting feature extraction for test/00799\n",
      "Starting feature extraction for test/00568\n",
      "Starting feature extraction for test/00811\n",
      "Starting feature extraction for test/00085\n",
      "Starting feature extraction for test/00092\n",
      "Starting feature extraction for test/00609\n",
      "Starting feature extraction for test/00662\n",
      "Starting feature extraction for test/00112\n",
      "Starting feature extraction for test/00773\n",
      "Starting feature extraction for test/00153\n",
      "Starting feature extraction for test/00732\n",
      "Starting feature extraction for test/00879\n",
      "Starting feature extraction for test/00282\n"
     ]
    }
   ],
   "source": [
    "from visualise_data import Sequence\n",
    "\n",
    "import warnings\n",
    "warnings.filterwarnings('ignore')\n",
    "\n",
    "\"\"\"\n",
    "For every data modality, we will extract some very simple features: the mean, min, max, median, and standard \n",
    "deviation of one second windows. We will put function pointers in a list called 'feature_functions' so that we \n",
    "can easily call these on our data for later\n",
    "\"\"\"\n",
    "feature_functions = [np.mean, np.std, np.min, np.median, np.max, np.sum]\n",
    "feature_names = ['mean', 'std', 'min', 'median', 'max', 'sum']\n",
    "\n",
    "# We will keep the number of extracted feature functions as a parameter \n",
    "num_ff = len(feature_functions)\n",
    "\n",
    "# We will want to keep track of the feature names for later, so we will collect these in the following list: \n",
    "column_names = []\n",
    "\n",
    "# These are the modalities that are available in the dataset, and the .iterate() function returns the data \n",
    "# in this order\n",
    "modality_names = ['acceleration', 'rssi', 'pir', 'video_living_room', 'video_kitchen', 'video_hallway']\n",
    "\n",
    "\"\"\"\n",
    "Iterate over all training directories\n",
    "\"\"\"\n",
    "for train_test in ('train', 'test', ): \n",
    "    if train_test is 'train': \n",
    "        print ('Extracting features from training data.\\n')\n",
    "    else: \n",
    "        print ('\\n\\n\\nExtracting features from testing data.\\n')\n",
    "        \n",
    "    for fi, file_id in enumerate(os.listdir('{}/{}/'.format(public_data_path, train_test))):\n",
    "\n",
    "        if \".DS_Store\" in str(file_id):\n",
    "            continue\n",
    "\n",
    "        stub_name = str(file_id).zfill(5)\n",
    "        \n",
    "\n",
    "\n",
    "        if train_test is 'train' or np.mod(fi, 50) == 0:\n",
    "            print (\"Starting feature extraction for {}/{}\".format(train_test, stub_name))\n",
    "\n",
    "        # Use the sequence loader to load the data from the directory. \n",
    "        data = Sequence(metadata_path, '{}/{}/{}'.format(public_data_path, train_test, stub_name))\n",
    "        data.load()\n",
    "\n",
    "        \"\"\"\n",
    "        Populate the column_name list here. This needs to only be done on the first iteration\n",
    "        because the column names will be the same between datasets. \n",
    "        \"\"\"\n",
    "        if len(column_names) == 0:\n",
    "            for lu, modalities in data.iterate():#(ms=1000):\n",
    "                for modality, modality_name in zip(modalities, modality_names):\n",
    "                    for column_name, column_data in modality.transpose().iterrows():\n",
    "                        for feature_name in feature_names:\n",
    "                            column_names.append('{0}_{1}_{2}'.format(modality_name, column_name, feature_name))\n",
    "\n",
    "                # Break here \n",
    "                break \n",
    "\n",
    "        \"\"\"\n",
    "        Here, we will extract some features from the data. We will use the Sequence.iterate function. \n",
    "\n",
    "        This function partitions the data into one-second dataframes for the full data sequence. The first element \n",
    "        (which we call lu) represents the lower and upper times of the sliding window, and the second is a list of\n",
    "        dataframes, one for each modality. The dataframes may be empty (due to missing data), and feature extraction \n",
    "        has to be able to cope with this! \n",
    "\n",
    "        The list rows will store the features extracted for this dataset\n",
    "        \"\"\"\n",
    "        rows = []\n",
    "\n",
    "        for ri, (lu, modalities) in enumerate(data.iterate()): #(ms=1000)):\n",
    "            row = []\n",
    "\n",
    "            \"\"\"\n",
    "            Iterate over the sensing modalities. The order is given in modality_names. \n",
    "\n",
    "            Note: If you want to treat each modality differently, you can do the following: \n",
    "\n",
    "            for ri, (lu, (accel, rssi, pir, vid_lr, vid_k, vid_h)) in enumerate(data.iterate()):\n",
    "                row.extend(extract_accel(accel))\n",
    "                row.extend(extract_rssi(rssi))\n",
    "                row.extend(extract_pir(pir))\n",
    "                row.extend(extract_video(vid_lr, vid_k, vid_h))\n",
    "\n",
    "            where the extract_accel/extract_rssi/extract_pir/extract_video functions are designed by you. \n",
    "            In the case here, we extract the same features from each modality, but optimal performance will \n",
    "            probably be achieved by considering different features for each modality. \n",
    "            \"\"\"\n",
    "\n",
    "            for modality in modalities:\n",
    "                \"\"\"\n",
    "                The accelerometer dataframe, for example, has three columns: x, y, and z. We want to extract features \n",
    "                from all of these, and so we iterate over the columns here. \n",
    "                \"\"\"\n",
    "                for name, column_data in modality.transpose().iterrows():\n",
    "                    if len(column_data) > 3:\n",
    "                        \"\"\"\n",
    "                        Extract the features stored in feature_functions on the column data if there is sufficient \n",
    "                        data in the dataframe. \n",
    "                        \"\"\"\n",
    "                        row.extend(map(lambda ff: ff(column_data), feature_functions))\n",
    "\n",
    "                    else:\n",
    "                        \"\"\"\n",
    "                        If no data is available, put nan placeholders to keep the column widths consistent\n",
    "                        \"\"\"\n",
    "                        row.extend([np.nan] * num_ff)\n",
    "\n",
    "            # Do a quick sanity check to ensure that the feature names and number of extracted features match\n",
    "            assert len(row) == len(column_names)\n",
    "\n",
    "            # Append the row to the full set of features\n",
    "            rows.append(row)\n",
    "\n",
    "            # Report progress \n",
    "            # if train_test is 'train':\n",
    "            #     if np.mod(ri + 1, 50) == 0:\n",
    "            #         print (\"{:5}\".format(str(ri + 1))),\n",
    "\n",
    "            #     if np.mod(ri + 1, 500) == 0:\n",
    "            #         print\n",
    "\n",
    "        \"\"\"\n",
    "        At this stage we have extracted a bunch of simple features from the data. In real implementation, \n",
    "        it would be advisable to look at more interesting features, eg\n",
    "\n",
    "          * acceleration: link\n",
    "          * environmental: link\n",
    "          * video: link\n",
    "\n",
    "        We will save these features to a new file called 'columns.csv' for use later. This file will be located \n",
    "        in the name of the training sequence. \n",
    "        \"\"\"\n",
    "        df = pd.DataFrame(rows)\n",
    "        df.columns = column_names\n",
    "        df.to_csv('{}/{}/{}/columns_1000ms.csv'.format(public_data_path, train_test, stub_name), index=False)\n",
    "\n",
    "        if train_test is 'train' or np.mod(fi, 50) == 0:\n",
    "            if train_test is 'train': \n",
    "                print (\"Finished feature extraction for {}/{}\\n\".format(train_test, stub_name))"
   ]
  },
  {
   "cell_type": "code",
   "execution_count": 11,
   "metadata": {},
   "outputs": [
    {
     "output_type": "execute_result",
     "data": {
      "text/plain": [
       "   acceleration_x_mean  acceleration_x_std  acceleration_x_min  \\\n",
       "0               0.4847            0.361156              -0.120   \n",
       "1               0.3935            0.308849              -0.026   \n",
       "2               0.3853            0.226490              -0.194   \n",
       "\n",
       "   acceleration_x_median  acceleration_x_max  acceleration_x_sum  \\\n",
       "0                  0.550               0.898               9.694   \n",
       "1                  0.365               1.096               7.870   \n",
       "2                  0.456               0.696               7.706   \n",
       "\n",
       "   acceleration_y_mean  acceleration_y_std  acceleration_y_min  \\\n",
       "0              -0.7798            0.157128              -1.074   \n",
       "1              -0.4990            0.567171              -1.314   \n",
       "2              -0.4958            0.283972              -0.916   \n",
       "\n",
       "   acceleration_y_median  ...  video_hallway_bb_3d_flt_y_min  \\\n",
       "0                 -0.707  ...                            NaN   \n",
       "1                 -0.531  ...                            NaN   \n",
       "2                 -0.537  ...                            NaN   \n",
       "\n",
       "   video_hallway_bb_3d_flt_y_median  video_hallway_bb_3d_flt_y_max  \\\n",
       "0                               NaN                            NaN   \n",
       "1                               NaN                            NaN   \n",
       "2                               NaN                            NaN   \n",
       "\n",
       "   video_hallway_bb_3d_flt_y_sum  video_hallway_bb_3d_flt_z_mean  \\\n",
       "0                            NaN                             NaN   \n",
       "1                            NaN                             NaN   \n",
       "2                            NaN                             NaN   \n",
       "\n",
       "   video_hallway_bb_3d_flt_z_std  video_hallway_bb_3d_flt_z_min  \\\n",
       "0                            NaN                            NaN   \n",
       "1                            NaN                            NaN   \n",
       "2                            NaN                            NaN   \n",
       "\n",
       "   video_hallway_bb_3d_flt_z_median  video_hallway_bb_3d_flt_z_max  \\\n",
       "0                               NaN                            NaN   \n",
       "1                               NaN                            NaN   \n",
       "2                               NaN                            NaN   \n",
       "\n",
       "   video_hallway_bb_3d_flt_z_sum  \n",
       "0                            NaN  \n",
       "1                            NaN  \n",
       "2                            NaN  \n",
       "\n",
       "[3 rows x 366 columns]"
      ],
      "text/html": "<div>\n<style scoped>\n    .dataframe tbody tr th:only-of-type {\n        vertical-align: middle;\n    }\n\n    .dataframe tbody tr th {\n        vertical-align: top;\n    }\n\n    .dataframe thead th {\n        text-align: right;\n    }\n</style>\n<table border=\"1\" class=\"dataframe\">\n  <thead>\n    <tr style=\"text-align: right;\">\n      <th></th>\n      <th>acceleration_x_mean</th>\n      <th>acceleration_x_std</th>\n      <th>acceleration_x_min</th>\n      <th>acceleration_x_median</th>\n      <th>acceleration_x_max</th>\n      <th>acceleration_x_sum</th>\n      <th>acceleration_y_mean</th>\n      <th>acceleration_y_std</th>\n      <th>acceleration_y_min</th>\n      <th>acceleration_y_median</th>\n      <th>...</th>\n      <th>video_hallway_bb_3d_flt_y_min</th>\n      <th>video_hallway_bb_3d_flt_y_median</th>\n      <th>video_hallway_bb_3d_flt_y_max</th>\n      <th>video_hallway_bb_3d_flt_y_sum</th>\n      <th>video_hallway_bb_3d_flt_z_mean</th>\n      <th>video_hallway_bb_3d_flt_z_std</th>\n      <th>video_hallway_bb_3d_flt_z_min</th>\n      <th>video_hallway_bb_3d_flt_z_median</th>\n      <th>video_hallway_bb_3d_flt_z_max</th>\n      <th>video_hallway_bb_3d_flt_z_sum</th>\n    </tr>\n  </thead>\n  <tbody>\n    <tr>\n      <th>0</th>\n      <td>0.4847</td>\n      <td>0.361156</td>\n      <td>-0.120</td>\n      <td>0.550</td>\n      <td>0.898</td>\n      <td>9.694</td>\n      <td>-0.7798</td>\n      <td>0.157128</td>\n      <td>-1.074</td>\n      <td>-0.707</td>\n      <td>...</td>\n      <td>NaN</td>\n      <td>NaN</td>\n      <td>NaN</td>\n      <td>NaN</td>\n      <td>NaN</td>\n      <td>NaN</td>\n      <td>NaN</td>\n      <td>NaN</td>\n      <td>NaN</td>\n      <td>NaN</td>\n    </tr>\n    <tr>\n      <th>1</th>\n      <td>0.3935</td>\n      <td>0.308849</td>\n      <td>-0.026</td>\n      <td>0.365</td>\n      <td>1.096</td>\n      <td>7.870</td>\n      <td>-0.4990</td>\n      <td>0.567171</td>\n      <td>-1.314</td>\n      <td>-0.531</td>\n      <td>...</td>\n      <td>NaN</td>\n      <td>NaN</td>\n      <td>NaN</td>\n      <td>NaN</td>\n      <td>NaN</td>\n      <td>NaN</td>\n      <td>NaN</td>\n      <td>NaN</td>\n      <td>NaN</td>\n      <td>NaN</td>\n    </tr>\n    <tr>\n      <th>2</th>\n      <td>0.3853</td>\n      <td>0.226490</td>\n      <td>-0.194</td>\n      <td>0.456</td>\n      <td>0.696</td>\n      <td>7.706</td>\n      <td>-0.4958</td>\n      <td>0.283972</td>\n      <td>-0.916</td>\n      <td>-0.537</td>\n      <td>...</td>\n      <td>NaN</td>\n      <td>NaN</td>\n      <td>NaN</td>\n      <td>NaN</td>\n      <td>NaN</td>\n      <td>NaN</td>\n      <td>NaN</td>\n      <td>NaN</td>\n      <td>NaN</td>\n      <td>NaN</td>\n    </tr>\n  </tbody>\n</table>\n<p>3 rows × 366 columns</p>\n</div>"
     },
     "metadata": {},
     "execution_count": 11
    }
   ],
   "source": [
    "df.head(3)"
   ]
  },
  {
   "source": [
    "# Load Data"
   ],
   "cell_type": "markdown",
   "metadata": {}
  },
  {
   "cell_type": "code",
   "execution_count": 12,
   "metadata": {},
   "outputs": [],
   "source": [
    "\"\"\"\n",
    "We will define two convenience function to load the extracted features and their \n",
    "\"\"\"\n",
    "\n",
    "\n",
    "def load_sequence(file_id):\n",
    "    filename = str(file_id).zfill(5) # zfill fills with 5 zeros at the beginning of the string\n",
    "\n",
    "    df = pd.read_csv('{}/train/{}/columns_1000ms.csv'.format(public_data_path, filename))\n",
    "    data = df.values\n",
    "    target = np.asarray(pd.read_csv('{}/train/{}/targets.csv'.format(public_data_path, filename)))[:, 2:]\n",
    "\n",
    "    return data, target\n",
    "\n",
    "\n",
    "def load_sequences(file_ids):\n",
    "    x_es = []\n",
    "    y_es = []\n",
    "\n",
    "    for file_id in file_ids:\n",
    "        data, target = load_sequence(file_id)\n",
    "\n",
    "        x_es.append(data)\n",
    "        y_es.append(target)\n",
    "\n",
    "    return np.row_stack(x_es), np.row_stack(y_es)"
   ]
  },
  {
   "cell_type": "code",
   "execution_count": 13,
   "metadata": {},
   "outputs": [],
   "source": [
    "# Load the training and testing data - all from the train directory(?)\n",
    "# The functions above grab the dataframes from each of the train directories and combine them together. (The dfs in those directories are themselves combinations of the data from the different modalities)\n",
    "train_x, train_y = load_sequences([1, 2, 3, 4, 5, 6, 7, 8])\n",
    "test_x, test_y = load_sequences([9, 10])"
   ]
  },
  {
   "source": [
    "# Data Imputation"
   ],
   "cell_type": "markdown",
   "metadata": {}
  },
  {
   "cell_type": "code",
   "execution_count": 14,
   "metadata": {},
   "outputs": [
    {
     "output_type": "stream",
     "name": "stdout",
     "text": [
      "Check whether the train/test features are all finite (before imputation)\n",
      "All training data finite: False\n",
      "All testing data finite: False\n",
      "Check whether the train/test features are all finite (after imputation)\n",
      "All training data finite: True\n",
      "All testing data finite: True\n",
      "Training data shapes:\n",
      "train_x.shape: (12513, 366)\n",
      "train_y.shape: (12513, 20)\n",
      "Testing data shapes\n",
      "test_x.shape: (3591, 366)\n",
      "test_y.shape: (3591, 20)\n"
     ]
    }
   ],
   "source": [
    "print (\"Check whether the train/test features are all finite (before imputation)\")\n",
    "print ('All training data finite:', np.all(np.isfinite(train_x)))\n",
    "print ('All testing data finite:', np.all(np.isfinite(test_x)))\n",
    "print \n",
    "\n",
    "# We will want to impute the missing data \n",
    "from sklearn.impute import SimpleImputer\n",
    "imputer = SimpleImputer()\n",
    "imputer.fit(train_x)\n",
    "\n",
    "train_x = imputer.transform(train_x)\n",
    "test_x = imputer.transform(test_x)\n",
    "\n",
    "print (\"Check whether the train/test features are all finite (after imputation)\")\n",
    "print ('All training data finite:', np.all(np.isfinite(train_x)))\n",
    "print ('All testing data finite:', np.all(np.isfinite(test_x)))\n",
    "print \n",
    "\n",
    "# Load the label names \n",
    "labels = json.load(open(metadata_path + '/annotations.json'))\n",
    "n_classes = len(labels)\n",
    "\n",
    "\"\"\"\n",
    "Note, not all data is annotated, so we select only the annotated rows\n",
    "\"\"\"\n",
    "train_y_has_annotation = np.isfinite(train_y.sum(1))\n",
    "train_x = train_x[train_y_has_annotation]\n",
    "train_y = train_y[train_y_has_annotation]\n",
    "\n",
    "test_y_has_annotation = np.isfinite(test_y.sum(1))\n",
    "test_x = test_x[test_y_has_annotation]\n",
    "test_y = test_y[test_y_has_annotation]\n",
    "\n",
    "\n",
    "\"\"\"\n",
    "Print simple statistics regarding the number of instances\n",
    "\"\"\"\n",
    "print (\"Training data shapes:\")\n",
    "print (\"train_x.shape: {}\".format(train_x.shape))\n",
    "print (\"train_y.shape: {}\".format(train_y.shape))\n",
    "print \n",
    "\n",
    "print (\"Testing data shapes\")\n",
    "print (\"test_x.shape: {}\".format(test_x.shape))\n",
    "print (\"test_y.shape: {}\".format(test_y.shape))"
   ]
  },
  {
   "source": [
    "# Class Weights"
   ],
   "cell_type": "markdown",
   "metadata": {}
  },
  {
   "cell_type": "code",
   "execution_count": 18,
   "metadata": {},
   "outputs": [],
   "source": [
    "activity_names = json.load(open(metadata_path + '/annotations.json', 'r'))\n",
    "class_weights = np.asarray(json.load(open(metadata_path + '/class_weights.json', 'r')))\n",
    "\n",
    "class_prior = train_y.mean(0)\n",
    "\n",
    "df = pd.DataFrame({\n",
    "        'Activity': activity_names, \n",
    "        'Class Weight': class_weights,\n",
    "        'Prior Class Distribution': class_prior\n",
    "    })\n",
    "\n",
    "df.set_index('Activity', inplace=True)\n",
    "# # reset colour palette\n",
    "# current_palette = cycle(sns.color_palette())\n",
    "# df.plot(\n",
    "#     kind='bar',\n",
    "#     width=1.0,\n",
    "#     subplots=True,\n",
    "#     color=[next(current_palette), next(current_palette)], \n",
    "# )"
   ]
  },
  {
   "source": [
    "# Prior Class Model\n",
    "\n",
    "Before looking at an actual classification model, it is useful to look at a very simple baseline: the prior class distribution predictor. With this model, we compute the prior distribution of the training data, and use this as our predictions for all new instances. This is not a very useful model because it doesn't look at any sensor data."
   ],
   "cell_type": "markdown",
   "metadata": {}
  },
  {
   "cell_type": "code",
   "execution_count": 22,
   "metadata": {},
   "outputs": [
    {
     "output_type": "stream",
     "name": "stdout",
     "text": [
      "16689 lines written.\n"
     ]
    }
   ],
   "source": [
    "from visualise_data import SequenceVisualisation\n",
    "\n",
    "plotter = SequenceVisualisation(metadata_path, public_data_path + '/train/00001')\n",
    "\n",
    "annotation_names = plotter.targets.columns.difference(['start', 'end'])\n",
    "\n",
    "se_cols = ['start', 'end']\n",
    "\n",
    "num_lines = 0\n",
    "\n",
    "with open('submission_prior_baseline.csv', 'w') as fil: \n",
    "    fil.write(','.join(['record_id'] + se_cols + annotation_names.tolist()))\n",
    "    fil.write('\\n')\n",
    "            \n",
    "    for te_ind_str in sorted(os.listdir(os.path.join(public_data_path, 'test'))):\n",
    "        te_ind = int(te_ind_str)\n",
    "\n",
    "        meta = json.load(open(os.path.join(public_data_path, 'test', te_ind_str, 'meta.json')))\n",
    "\n",
    "        starts = range(meta['end'])\n",
    "        ends = range(1, meta['end'] + 1)\n",
    "\n",
    "        for start, end in zip(starts, ends):\n",
    "            row = [te_ind, start, end] + class_prior.tolist()\n",
    "\n",
    "            fil.write(','.join(map(str, row)))\n",
    "            fil.write('\\n')\n",
    "            \n",
    "            num_lines += 1\n",
    "            \n",
    "print (\"{} lines written.\".format(num_lines))"
   ]
  },
  {
   "source": [
    "# KNN\n",
    "\n",
    "As we said earlier, we are going to use a k nearest neighbours classifier. The basic idea is that we find the training data that 'look' most similar to our new test data, and predict the average of those similar neighbours."
   ],
   "cell_type": "markdown",
   "metadata": {}
  },
  {
   "cell_type": "code",
   "execution_count": 24,
   "metadata": {},
   "outputs": [],
   "source": [
    "from sklearn.neighbors import NearestNeighbors\n"
   ]
  },
  {
   "cell_type": "code",
   "execution_count": 26,
   "metadata": {},
   "outputs": [],
   "source": [
    "\"\"\"\n",
    "Define a simple class that inherits from sklearn.neighbors.NearestNeighbors. \n",
    "We will adjust the fit/predict as necessary\n",
    "\"\"\"\n",
    "class ProbabilisticKNN(NearestNeighbors): \n",
    "    def __init__(self, n_neighbors): \n",
    "        super(ProbabilisticKNN, self).__init__(n_neighbors)\n",
    "        \n",
    "        self.train_y = None\n",
    "        \n",
    "    def fit(self, train_x, train_y): \n",
    "        \"\"\"\n",
    "        The fit function requires both train_x and train_y. \n",
    "        See 'The selected model' section above for explanation\n",
    "        \"\"\"\n",
    "        \n",
    "        self.train_y = np.copy(train_y)\n",
    "        \n",
    "        super(ProbabilisticKNN, self).fit(train_x)\n",
    "        \n",
    "    def predict_proba(self, test_x): \n",
    "        \"\"\"\n",
    "        This function finds the k closest instances to the unseen test data, and \n",
    "        averages the train_labels of the closest instances. \n",
    "        \"\"\"\n",
    "        \n",
    "        # Find the nearest neighbours for the test set\n",
    "        test_neighbours = self.kneighbors(test_x, return_distance=False)\n",
    "        \n",
    "        # Average the labels of these for prediction\n",
    "        return np.asarray(\n",
    "            [self.train_y[inds].mean(0) for inds in test_neighbours]\n",
    "        )\n",
    "\n",
    "# Learn the KNN model \n",
    "nn = ProbabilisticKNN(n_neighbors=11)\n",
    "nn.fit(train_x, train_y)\n",
    "\n",
    "# Predict on the test instances\n",
    "test_predicted = nn.predict_proba(test_x)"
   ]
  },
  {
   "cell_type": "code",
   "execution_count": 47,
   "metadata": {},
   "outputs": [
    {
     "output_type": "stream",
     "name": "stdout",
     "text": [
      "[0.11363636 0.         0.         0.         0.09090909 0.\n 0.         0.         0.         0.         0.70909091 0.\n 0.         0.         0.         0.         0.         0.\n 0.         0.08636364]\n[0.  0.  0.  0.  0.5 0.  0.  0.  0.  0.  0.5 0.  0.  0.  0.  0.  0.  0.\n 0.  0. ]\n"
     ]
    }
   ],
   "source": [
    "print(test_predicted[6,:])\n",
    "print(test_y[6,:])"
   ]
  },
  {
   "cell_type": "code",
   "execution_count": 42,
   "metadata": {},
   "outputs": [
    {
     "output_type": "stream",
     "name": "stdout",
     "text": [
      "Learning model for k=  1\n",
      "score=0.50682\n",
      "Learning model for k=  2\n",
      "score=0.39434\n",
      "Learning model for k=  4\n",
      "score=0.33123\n",
      "Learning model for k=  8\n",
      "score=0.29821\n",
      "Learning model for k= 16\n",
      "score=0.28477\n",
      "Learning model for k= 32\n",
      "score=0.28210\n",
      "Learning model for k= 64\n",
      "score=0.28163\n",
      "Learning model for k=128\n",
      "score=0.28080\n"
     ]
    }
   ],
   "source": [
    "# Test the effect of K\n",
    "# brier score measures the accuracy of probabilistic predictions\n",
    "\n",
    "def brier_score(given, predicted, weight_vector): \n",
    "    return np.power(given - predicted, 2.0).dot(weight_vector).mean()\n",
    "\n",
    "brier_scores = []\n",
    "\n",
    "k_range = np.power(2, range(8))\n",
    "for k in k_range: \n",
    "    print (\"Learning model for k={:3d}\".format(k)), \n",
    "    \n",
    "    nn = ProbabilisticKNN(n_neighbors=k)\n",
    "    nn.fit(train_x, train_y)\n",
    "    \n",
    "    predicted = nn.predict_proba(test_x)\n",
    "    \n",
    "    brier_scores.append(brier_score(test_y, predicted, class_weights))\n",
    "    \n",
    "    print (\"score={:.5f}\".format(brier_scores[-1]))"
   ]
  },
  {
   "cell_type": "code",
   "execution_count": 43,
   "metadata": {},
   "outputs": [
    {
     "output_type": "execute_result",
     "data": {
      "text/plain": [
       "<matplotlib.legend.Legend at 0x7fd417c3d710>"
      ]
     },
     "metadata": {},
     "execution_count": 43
    },
    {
     "output_type": "display_data",
     "data": {
      "text/plain": "<Figure size 432x288 with 1 Axes>",
      "image/svg+xml": "<?xml version=\"1.0\" encoding=\"utf-8\" standalone=\"no\"?>\n<!DOCTYPE svg PUBLIC \"-//W3C//DTD SVG 1.1//EN\"\n  \"http://www.w3.org/Graphics/SVG/1.1/DTD/svg11.dtd\">\n<!-- Created with matplotlib (https://matplotlib.org/) -->\n<svg height=\"262.19625pt\" version=\"1.1\" viewBox=\"0 0 392.14375 262.19625\" width=\"392.14375pt\" xmlns=\"http://www.w3.org/2000/svg\" xmlns:xlink=\"http://www.w3.org/1999/xlink\">\n <metadata>\n  <rdf:RDF xmlns:cc=\"http://creativecommons.org/ns#\" xmlns:dc=\"http://purl.org/dc/elements/1.1/\" xmlns:rdf=\"http://www.w3.org/1999/02/22-rdf-syntax-ns#\">\n   <cc:Work>\n    <dc:type rdf:resource=\"http://purl.org/dc/dcmitype/StillImage\"/>\n    <dc:date>2021-03-30T12:14:28.206274</dc:date>\n    <dc:format>image/svg+xml</dc:format>\n    <dc:creator>\n     <cc:Agent>\n      <dc:title>Matplotlib v3.3.4, https://matplotlib.org/</dc:title>\n     </cc:Agent>\n    </dc:creator>\n   </cc:Work>\n  </rdf:RDF>\n </metadata>\n <defs>\n  <style type=\"text/css\">*{stroke-linecap:butt;stroke-linejoin:round;}</style>\n </defs>\n <g id=\"figure_1\">\n  <g id=\"patch_1\">\n   <path d=\"M 0 262.19625 \nL 392.14375 262.19625 \nL 392.14375 0 \nL 0 0 \nz\n\" style=\"fill:none;\"/>\n  </g>\n  <g id=\"axes_1\">\n   <g id=\"patch_2\">\n    <path d=\"M 50.14375 224.64 \nL 384.94375 224.64 \nL 384.94375 7.2 \nL 50.14375 7.2 \nz\n\" style=\"fill:#ffffff;\"/>\n   </g>\n   <g id=\"matplotlib.axis_1\">\n    <g id=\"xtick_1\">\n     <g id=\"line2d_1\">\n      <defs>\n       <path d=\"M 0 0 \nL 0 3.5 \n\" id=\"m38cc40495e\" style=\"stroke:#000000;stroke-width:0.8;\"/>\n      </defs>\n      <g>\n       <use style=\"stroke:#000000;stroke-width:0.8;\" x=\"62.965368\" xlink:href=\"#m38cc40495e\" y=\"224.64\"/>\n      </g>\n     </g>\n     <g id=\"text_1\">\n      <!-- 0 -->\n      <g transform=\"translate(59.784118 239.238437)scale(0.1 -0.1)\">\n       <defs>\n        <path d=\"M 31.78125 66.40625 \nQ 24.171875 66.40625 20.328125 58.90625 \nQ 16.5 51.421875 16.5 36.375 \nQ 16.5 21.390625 20.328125 13.890625 \nQ 24.171875 6.390625 31.78125 6.390625 \nQ 39.453125 6.390625 43.28125 13.890625 \nQ 47.125 21.390625 47.125 36.375 \nQ 47.125 51.421875 43.28125 58.90625 \nQ 39.453125 66.40625 31.78125 66.40625 \nz\nM 31.78125 74.21875 \nQ 44.046875 74.21875 50.515625 64.515625 \nQ 56.984375 54.828125 56.984375 36.375 \nQ 56.984375 17.96875 50.515625 8.265625 \nQ 44.046875 -1.421875 31.78125 -1.421875 \nQ 19.53125 -1.421875 13.0625 8.265625 \nQ 6.59375 17.96875 6.59375 36.375 \nQ 6.59375 54.828125 13.0625 64.515625 \nQ 19.53125 74.21875 31.78125 74.21875 \nz\n\" id=\"DejaVuSans-48\"/>\n       </defs>\n       <use xlink:href=\"#DejaVuSans-48\"/>\n      </g>\n     </g>\n    </g>\n    <g id=\"xtick_2\">\n     <g id=\"line2d_2\">\n      <g>\n       <use style=\"stroke:#000000;stroke-width:0.8;\" x=\"110.896649\" xlink:href=\"#m38cc40495e\" y=\"224.64\"/>\n      </g>\n     </g>\n     <g id=\"text_2\">\n      <!-- 20 -->\n      <g transform=\"translate(104.534149 239.238437)scale(0.1 -0.1)\">\n       <defs>\n        <path d=\"M 19.1875 8.296875 \nL 53.609375 8.296875 \nL 53.609375 0 \nL 7.328125 0 \nL 7.328125 8.296875 \nQ 12.9375 14.109375 22.625 23.890625 \nQ 32.328125 33.6875 34.8125 36.53125 \nQ 39.546875 41.84375 41.421875 45.53125 \nQ 43.3125 49.21875 43.3125 52.78125 \nQ 43.3125 58.59375 39.234375 62.25 \nQ 35.15625 65.921875 28.609375 65.921875 \nQ 23.96875 65.921875 18.8125 64.3125 \nQ 13.671875 62.703125 7.8125 59.421875 \nL 7.8125 69.390625 \nQ 13.765625 71.78125 18.9375 73 \nQ 24.125 74.21875 28.421875 74.21875 \nQ 39.75 74.21875 46.484375 68.546875 \nQ 53.21875 62.890625 53.21875 53.421875 \nQ 53.21875 48.921875 51.53125 44.890625 \nQ 49.859375 40.875 45.40625 35.40625 \nQ 44.1875 33.984375 37.640625 27.21875 \nQ 31.109375 20.453125 19.1875 8.296875 \nz\n\" id=\"DejaVuSans-50\"/>\n       </defs>\n       <use xlink:href=\"#DejaVuSans-50\"/>\n       <use x=\"63.623047\" xlink:href=\"#DejaVuSans-48\"/>\n      </g>\n     </g>\n    </g>\n    <g id=\"xtick_3\">\n     <g id=\"line2d_3\">\n      <g>\n       <use style=\"stroke:#000000;stroke-width:0.8;\" x=\"158.82793\" xlink:href=\"#m38cc40495e\" y=\"224.64\"/>\n      </g>\n     </g>\n     <g id=\"text_3\">\n      <!-- 40 -->\n      <g transform=\"translate(152.46543 239.238437)scale(0.1 -0.1)\">\n       <defs>\n        <path d=\"M 37.796875 64.3125 \nL 12.890625 25.390625 \nL 37.796875 25.390625 \nz\nM 35.203125 72.90625 \nL 47.609375 72.90625 \nL 47.609375 25.390625 \nL 58.015625 25.390625 \nL 58.015625 17.1875 \nL 47.609375 17.1875 \nL 47.609375 0 \nL 37.796875 0 \nL 37.796875 17.1875 \nL 4.890625 17.1875 \nL 4.890625 26.703125 \nz\n\" id=\"DejaVuSans-52\"/>\n       </defs>\n       <use xlink:href=\"#DejaVuSans-52\"/>\n       <use x=\"63.623047\" xlink:href=\"#DejaVuSans-48\"/>\n      </g>\n     </g>\n    </g>\n    <g id=\"xtick_4\">\n     <g id=\"line2d_4\">\n      <g>\n       <use style=\"stroke:#000000;stroke-width:0.8;\" x=\"206.759212\" xlink:href=\"#m38cc40495e\" y=\"224.64\"/>\n      </g>\n     </g>\n     <g id=\"text_4\">\n      <!-- 60 -->\n      <g transform=\"translate(200.396712 239.238437)scale(0.1 -0.1)\">\n       <defs>\n        <path d=\"M 33.015625 40.375 \nQ 26.375 40.375 22.484375 35.828125 \nQ 18.609375 31.296875 18.609375 23.390625 \nQ 18.609375 15.53125 22.484375 10.953125 \nQ 26.375 6.390625 33.015625 6.390625 \nQ 39.65625 6.390625 43.53125 10.953125 \nQ 47.40625 15.53125 47.40625 23.390625 \nQ 47.40625 31.296875 43.53125 35.828125 \nQ 39.65625 40.375 33.015625 40.375 \nz\nM 52.59375 71.296875 \nL 52.59375 62.3125 \nQ 48.875 64.0625 45.09375 64.984375 \nQ 41.3125 65.921875 37.59375 65.921875 \nQ 27.828125 65.921875 22.671875 59.328125 \nQ 17.53125 52.734375 16.796875 39.40625 \nQ 19.671875 43.65625 24.015625 45.921875 \nQ 28.375 48.1875 33.59375 48.1875 \nQ 44.578125 48.1875 50.953125 41.515625 \nQ 57.328125 34.859375 57.328125 23.390625 \nQ 57.328125 12.15625 50.6875 5.359375 \nQ 44.046875 -1.421875 33.015625 -1.421875 \nQ 20.359375 -1.421875 13.671875 8.265625 \nQ 6.984375 17.96875 6.984375 36.375 \nQ 6.984375 53.65625 15.1875 63.9375 \nQ 23.390625 74.21875 37.203125 74.21875 \nQ 40.921875 74.21875 44.703125 73.484375 \nQ 48.484375 72.75 52.59375 71.296875 \nz\n\" id=\"DejaVuSans-54\"/>\n       </defs>\n       <use xlink:href=\"#DejaVuSans-54\"/>\n       <use x=\"63.623047\" xlink:href=\"#DejaVuSans-48\"/>\n      </g>\n     </g>\n    </g>\n    <g id=\"xtick_5\">\n     <g id=\"line2d_5\">\n      <g>\n       <use style=\"stroke:#000000;stroke-width:0.8;\" x=\"254.690493\" xlink:href=\"#m38cc40495e\" y=\"224.64\"/>\n      </g>\n     </g>\n     <g id=\"text_5\">\n      <!-- 80 -->\n      <g transform=\"translate(248.327993 239.238437)scale(0.1 -0.1)\">\n       <defs>\n        <path d=\"M 31.78125 34.625 \nQ 24.75 34.625 20.71875 30.859375 \nQ 16.703125 27.09375 16.703125 20.515625 \nQ 16.703125 13.921875 20.71875 10.15625 \nQ 24.75 6.390625 31.78125 6.390625 \nQ 38.8125 6.390625 42.859375 10.171875 \nQ 46.921875 13.96875 46.921875 20.515625 \nQ 46.921875 27.09375 42.890625 30.859375 \nQ 38.875 34.625 31.78125 34.625 \nz\nM 21.921875 38.8125 \nQ 15.578125 40.375 12.03125 44.71875 \nQ 8.5 49.078125 8.5 55.328125 \nQ 8.5 64.0625 14.71875 69.140625 \nQ 20.953125 74.21875 31.78125 74.21875 \nQ 42.671875 74.21875 48.875 69.140625 \nQ 55.078125 64.0625 55.078125 55.328125 \nQ 55.078125 49.078125 51.53125 44.71875 \nQ 48 40.375 41.703125 38.8125 \nQ 48.828125 37.15625 52.796875 32.3125 \nQ 56.78125 27.484375 56.78125 20.515625 \nQ 56.78125 9.90625 50.3125 4.234375 \nQ 43.84375 -1.421875 31.78125 -1.421875 \nQ 19.734375 -1.421875 13.25 4.234375 \nQ 6.78125 9.90625 6.78125 20.515625 \nQ 6.78125 27.484375 10.78125 32.3125 \nQ 14.796875 37.15625 21.921875 38.8125 \nz\nM 18.3125 54.390625 \nQ 18.3125 48.734375 21.84375 45.5625 \nQ 25.390625 42.390625 31.78125 42.390625 \nQ 38.140625 42.390625 41.71875 45.5625 \nQ 45.3125 48.734375 45.3125 54.390625 \nQ 45.3125 60.0625 41.71875 63.234375 \nQ 38.140625 66.40625 31.78125 66.40625 \nQ 25.390625 66.40625 21.84375 63.234375 \nQ 18.3125 60.0625 18.3125 54.390625 \nz\n\" id=\"DejaVuSans-56\"/>\n       </defs>\n       <use xlink:href=\"#DejaVuSans-56\"/>\n       <use x=\"63.623047\" xlink:href=\"#DejaVuSans-48\"/>\n      </g>\n     </g>\n    </g>\n    <g id=\"xtick_6\">\n     <g id=\"line2d_6\">\n      <g>\n       <use style=\"stroke:#000000;stroke-width:0.8;\" x=\"302.621774\" xlink:href=\"#m38cc40495e\" y=\"224.64\"/>\n      </g>\n     </g>\n     <g id=\"text_6\">\n      <!-- 100 -->\n      <g transform=\"translate(293.078024 239.238437)scale(0.1 -0.1)\">\n       <defs>\n        <path d=\"M 12.40625 8.296875 \nL 28.515625 8.296875 \nL 28.515625 63.921875 \nL 10.984375 60.40625 \nL 10.984375 69.390625 \nL 28.421875 72.90625 \nL 38.28125 72.90625 \nL 38.28125 8.296875 \nL 54.390625 8.296875 \nL 54.390625 0 \nL 12.40625 0 \nz\n\" id=\"DejaVuSans-49\"/>\n       </defs>\n       <use xlink:href=\"#DejaVuSans-49\"/>\n       <use x=\"63.623047\" xlink:href=\"#DejaVuSans-48\"/>\n       <use x=\"127.246094\" xlink:href=\"#DejaVuSans-48\"/>\n      </g>\n     </g>\n    </g>\n    <g id=\"xtick_7\">\n     <g id=\"line2d_7\">\n      <g>\n       <use style=\"stroke:#000000;stroke-width:0.8;\" x=\"350.553056\" xlink:href=\"#m38cc40495e\" y=\"224.64\"/>\n      </g>\n     </g>\n     <g id=\"text_7\">\n      <!-- 120 -->\n      <g transform=\"translate(341.009306 239.238437)scale(0.1 -0.1)\">\n       <use xlink:href=\"#DejaVuSans-49\"/>\n       <use x=\"63.623047\" xlink:href=\"#DejaVuSans-50\"/>\n       <use x=\"127.246094\" xlink:href=\"#DejaVuSans-48\"/>\n      </g>\n     </g>\n    </g>\n    <g id=\"text_8\">\n     <!-- Value of k -->\n     <g transform=\"translate(192.919531 252.916562)scale(0.1 -0.1)\">\n      <defs>\n       <path d=\"M 28.609375 0 \nL 0.78125 72.90625 \nL 11.078125 72.90625 \nL 34.1875 11.53125 \nL 57.328125 72.90625 \nL 67.578125 72.90625 \nL 39.796875 0 \nz\n\" id=\"DejaVuSans-86\"/>\n       <path d=\"M 34.28125 27.484375 \nQ 23.390625 27.484375 19.1875 25 \nQ 14.984375 22.515625 14.984375 16.5 \nQ 14.984375 11.71875 18.140625 8.90625 \nQ 21.296875 6.109375 26.703125 6.109375 \nQ 34.1875 6.109375 38.703125 11.40625 \nQ 43.21875 16.703125 43.21875 25.484375 \nL 43.21875 27.484375 \nz\nM 52.203125 31.203125 \nL 52.203125 0 \nL 43.21875 0 \nL 43.21875 8.296875 \nQ 40.140625 3.328125 35.546875 0.953125 \nQ 30.953125 -1.421875 24.3125 -1.421875 \nQ 15.921875 -1.421875 10.953125 3.296875 \nQ 6 8.015625 6 15.921875 \nQ 6 25.140625 12.171875 29.828125 \nQ 18.359375 34.515625 30.609375 34.515625 \nL 43.21875 34.515625 \nL 43.21875 35.40625 \nQ 43.21875 41.609375 39.140625 45 \nQ 35.0625 48.390625 27.6875 48.390625 \nQ 23 48.390625 18.546875 47.265625 \nQ 14.109375 46.140625 10.015625 43.890625 \nL 10.015625 52.203125 \nQ 14.9375 54.109375 19.578125 55.046875 \nQ 24.21875 56 28.609375 56 \nQ 40.484375 56 46.34375 49.84375 \nQ 52.203125 43.703125 52.203125 31.203125 \nz\n\" id=\"DejaVuSans-97\"/>\n       <path d=\"M 9.421875 75.984375 \nL 18.40625 75.984375 \nL 18.40625 0 \nL 9.421875 0 \nz\n\" id=\"DejaVuSans-108\"/>\n       <path d=\"M 8.5 21.578125 \nL 8.5 54.6875 \nL 17.484375 54.6875 \nL 17.484375 21.921875 \nQ 17.484375 14.15625 20.5 10.265625 \nQ 23.53125 6.390625 29.59375 6.390625 \nQ 36.859375 6.390625 41.078125 11.03125 \nQ 45.3125 15.671875 45.3125 23.6875 \nL 45.3125 54.6875 \nL 54.296875 54.6875 \nL 54.296875 0 \nL 45.3125 0 \nL 45.3125 8.40625 \nQ 42.046875 3.421875 37.71875 1 \nQ 33.40625 -1.421875 27.6875 -1.421875 \nQ 18.265625 -1.421875 13.375 4.4375 \nQ 8.5 10.296875 8.5 21.578125 \nz\nM 31.109375 56 \nz\n\" id=\"DejaVuSans-117\"/>\n       <path d=\"M 56.203125 29.59375 \nL 56.203125 25.203125 \nL 14.890625 25.203125 \nQ 15.484375 15.921875 20.484375 11.0625 \nQ 25.484375 6.203125 34.421875 6.203125 \nQ 39.59375 6.203125 44.453125 7.46875 \nQ 49.3125 8.734375 54.109375 11.28125 \nL 54.109375 2.78125 \nQ 49.265625 0.734375 44.1875 -0.34375 \nQ 39.109375 -1.421875 33.890625 -1.421875 \nQ 20.796875 -1.421875 13.15625 6.1875 \nQ 5.515625 13.8125 5.515625 26.8125 \nQ 5.515625 40.234375 12.765625 48.109375 \nQ 20.015625 56 32.328125 56 \nQ 43.359375 56 49.78125 48.890625 \nQ 56.203125 41.796875 56.203125 29.59375 \nz\nM 47.21875 32.234375 \nQ 47.125 39.59375 43.09375 43.984375 \nQ 39.0625 48.390625 32.421875 48.390625 \nQ 24.90625 48.390625 20.390625 44.140625 \nQ 15.875 39.890625 15.1875 32.171875 \nz\n\" id=\"DejaVuSans-101\"/>\n       <path id=\"DejaVuSans-32\"/>\n       <path d=\"M 30.609375 48.390625 \nQ 23.390625 48.390625 19.1875 42.75 \nQ 14.984375 37.109375 14.984375 27.296875 \nQ 14.984375 17.484375 19.15625 11.84375 \nQ 23.34375 6.203125 30.609375 6.203125 \nQ 37.796875 6.203125 41.984375 11.859375 \nQ 46.1875 17.53125 46.1875 27.296875 \nQ 46.1875 37.015625 41.984375 42.703125 \nQ 37.796875 48.390625 30.609375 48.390625 \nz\nM 30.609375 56 \nQ 42.328125 56 49.015625 48.375 \nQ 55.71875 40.765625 55.71875 27.296875 \nQ 55.71875 13.875 49.015625 6.21875 \nQ 42.328125 -1.421875 30.609375 -1.421875 \nQ 18.84375 -1.421875 12.171875 6.21875 \nQ 5.515625 13.875 5.515625 27.296875 \nQ 5.515625 40.765625 12.171875 48.375 \nQ 18.84375 56 30.609375 56 \nz\n\" id=\"DejaVuSans-111\"/>\n       <path d=\"M 37.109375 75.984375 \nL 37.109375 68.5 \nL 28.515625 68.5 \nQ 23.6875 68.5 21.796875 66.546875 \nQ 19.921875 64.59375 19.921875 59.515625 \nL 19.921875 54.6875 \nL 34.71875 54.6875 \nL 34.71875 47.703125 \nL 19.921875 47.703125 \nL 19.921875 0 \nL 10.890625 0 \nL 10.890625 47.703125 \nL 2.296875 47.703125 \nL 2.296875 54.6875 \nL 10.890625 54.6875 \nL 10.890625 58.5 \nQ 10.890625 67.625 15.140625 71.796875 \nQ 19.390625 75.984375 28.609375 75.984375 \nz\n\" id=\"DejaVuSans-102\"/>\n       <path d=\"M 9.078125 75.984375 \nL 18.109375 75.984375 \nL 18.109375 31.109375 \nL 44.921875 54.6875 \nL 56.390625 54.6875 \nL 27.390625 29.109375 \nL 57.625 0 \nL 45.90625 0 \nL 18.109375 26.703125 \nL 18.109375 0 \nL 9.078125 0 \nz\n\" id=\"DejaVuSans-107\"/>\n      </defs>\n      <use xlink:href=\"#DejaVuSans-86\"/>\n      <use x=\"60.658203\" xlink:href=\"#DejaVuSans-97\"/>\n      <use x=\"121.9375\" xlink:href=\"#DejaVuSans-108\"/>\n      <use x=\"149.720703\" xlink:href=\"#DejaVuSans-117\"/>\n      <use x=\"213.099609\" xlink:href=\"#DejaVuSans-101\"/>\n      <use x=\"274.623047\" xlink:href=\"#DejaVuSans-32\"/>\n      <use x=\"306.410156\" xlink:href=\"#DejaVuSans-111\"/>\n      <use x=\"367.591797\" xlink:href=\"#DejaVuSans-102\"/>\n      <use x=\"402.796875\" xlink:href=\"#DejaVuSans-32\"/>\n      <use x=\"434.583984\" xlink:href=\"#DejaVuSans-107\"/>\n     </g>\n    </g>\n   </g>\n   <g id=\"matplotlib.axis_2\">\n    <g id=\"ytick_1\">\n     <g id=\"line2d_8\">\n      <defs>\n       <path d=\"M 0 0 \nL -3.5 0 \n\" id=\"m07a197f312\" style=\"stroke:#000000;stroke-width:0.8;\"/>\n      </defs>\n      <g>\n       <use style=\"stroke:#000000;stroke-width:0.8;\" x=\"50.14375\" xlink:href=\"#m07a197f312\" y=\"197.966711\"/>\n      </g>\n     </g>\n     <g id=\"text_9\">\n      <!-- 0.30 -->\n      <g transform=\"translate(20.878125 201.76593)scale(0.1 -0.1)\">\n       <defs>\n        <path d=\"M 10.6875 12.40625 \nL 21 12.40625 \nL 21 0 \nL 10.6875 0 \nz\n\" id=\"DejaVuSans-46\"/>\n        <path d=\"M 40.578125 39.3125 \nQ 47.65625 37.796875 51.625 33 \nQ 55.609375 28.21875 55.609375 21.1875 \nQ 55.609375 10.40625 48.1875 4.484375 \nQ 40.765625 -1.421875 27.09375 -1.421875 \nQ 22.515625 -1.421875 17.65625 -0.515625 \nQ 12.796875 0.390625 7.625 2.203125 \nL 7.625 11.71875 \nQ 11.71875 9.328125 16.59375 8.109375 \nQ 21.484375 6.890625 26.8125 6.890625 \nQ 36.078125 6.890625 40.9375 10.546875 \nQ 45.796875 14.203125 45.796875 21.1875 \nQ 45.796875 27.640625 41.28125 31.265625 \nQ 36.765625 34.90625 28.71875 34.90625 \nL 20.21875 34.90625 \nL 20.21875 43.015625 \nL 29.109375 43.015625 \nQ 36.375 43.015625 40.234375 45.921875 \nQ 44.09375 48.828125 44.09375 54.296875 \nQ 44.09375 59.90625 40.109375 62.90625 \nQ 36.140625 65.921875 28.71875 65.921875 \nQ 24.65625 65.921875 20.015625 65.03125 \nQ 15.375 64.15625 9.8125 62.3125 \nL 9.8125 71.09375 \nQ 15.4375 72.65625 20.34375 73.4375 \nQ 25.25 74.21875 29.59375 74.21875 \nQ 40.828125 74.21875 47.359375 69.109375 \nQ 53.90625 64.015625 53.90625 55.328125 \nQ 53.90625 49.265625 50.4375 45.09375 \nQ 46.96875 40.921875 40.578125 39.3125 \nz\n\" id=\"DejaVuSans-51\"/>\n       </defs>\n       <use xlink:href=\"#DejaVuSans-48\"/>\n       <use x=\"63.623047\" xlink:href=\"#DejaVuSans-46\"/>\n       <use x=\"95.410156\" xlink:href=\"#DejaVuSans-51\"/>\n       <use x=\"159.033203\" xlink:href=\"#DejaVuSans-48\"/>\n      </g>\n     </g>\n    </g>\n    <g id=\"ytick_2\">\n     <g id=\"line2d_9\">\n      <g>\n       <use style=\"stroke:#000000;stroke-width:0.8;\" x=\"50.14375\" xlink:href=\"#m07a197f312\" y=\"154.236781\"/>\n      </g>\n     </g>\n     <g id=\"text_10\">\n      <!-- 0.35 -->\n      <g transform=\"translate(20.878125 158.036)scale(0.1 -0.1)\">\n       <defs>\n        <path d=\"M 10.796875 72.90625 \nL 49.515625 72.90625 \nL 49.515625 64.59375 \nL 19.828125 64.59375 \nL 19.828125 46.734375 \nQ 21.96875 47.46875 24.109375 47.828125 \nQ 26.265625 48.1875 28.421875 48.1875 \nQ 40.625 48.1875 47.75 41.5 \nQ 54.890625 34.8125 54.890625 23.390625 \nQ 54.890625 11.625 47.5625 5.09375 \nQ 40.234375 -1.421875 26.90625 -1.421875 \nQ 22.3125 -1.421875 17.546875 -0.640625 \nQ 12.796875 0.140625 7.71875 1.703125 \nL 7.71875 11.625 \nQ 12.109375 9.234375 16.796875 8.0625 \nQ 21.484375 6.890625 26.703125 6.890625 \nQ 35.15625 6.890625 40.078125 11.328125 \nQ 45.015625 15.765625 45.015625 23.390625 \nQ 45.015625 31 40.078125 35.4375 \nQ 35.15625 39.890625 26.703125 39.890625 \nQ 22.75 39.890625 18.8125 39.015625 \nQ 14.890625 38.140625 10.796875 36.28125 \nz\n\" id=\"DejaVuSans-53\"/>\n       </defs>\n       <use xlink:href=\"#DejaVuSans-48\"/>\n       <use x=\"63.623047\" xlink:href=\"#DejaVuSans-46\"/>\n       <use x=\"95.410156\" xlink:href=\"#DejaVuSans-51\"/>\n       <use x=\"159.033203\" xlink:href=\"#DejaVuSans-53\"/>\n      </g>\n     </g>\n    </g>\n    <g id=\"ytick_3\">\n     <g id=\"line2d_10\">\n      <g>\n       <use style=\"stroke:#000000;stroke-width:0.8;\" x=\"50.14375\" xlink:href=\"#m07a197f312\" y=\"110.50685\"/>\n      </g>\n     </g>\n     <g id=\"text_11\">\n      <!-- 0.40 -->\n      <g transform=\"translate(20.878125 114.306069)scale(0.1 -0.1)\">\n       <use xlink:href=\"#DejaVuSans-48\"/>\n       <use x=\"63.623047\" xlink:href=\"#DejaVuSans-46\"/>\n       <use x=\"95.410156\" xlink:href=\"#DejaVuSans-52\"/>\n       <use x=\"159.033203\" xlink:href=\"#DejaVuSans-48\"/>\n      </g>\n     </g>\n    </g>\n    <g id=\"ytick_4\">\n     <g id=\"line2d_11\">\n      <g>\n       <use style=\"stroke:#000000;stroke-width:0.8;\" x=\"50.14375\" xlink:href=\"#m07a197f312\" y=\"66.77692\"/>\n      </g>\n     </g>\n     <g id=\"text_12\">\n      <!-- 0.45 -->\n      <g transform=\"translate(20.878125 70.576138)scale(0.1 -0.1)\">\n       <use xlink:href=\"#DejaVuSans-48\"/>\n       <use x=\"63.623047\" xlink:href=\"#DejaVuSans-46\"/>\n       <use x=\"95.410156\" xlink:href=\"#DejaVuSans-52\"/>\n       <use x=\"159.033203\" xlink:href=\"#DejaVuSans-53\"/>\n      </g>\n     </g>\n    </g>\n    <g id=\"ytick_5\">\n     <g id=\"line2d_12\">\n      <g>\n       <use style=\"stroke:#000000;stroke-width:0.8;\" x=\"50.14375\" xlink:href=\"#m07a197f312\" y=\"23.046989\"/>\n      </g>\n     </g>\n     <g id=\"text_13\">\n      <!-- 0.50 -->\n      <g transform=\"translate(20.878125 26.846208)scale(0.1 -0.1)\">\n       <use xlink:href=\"#DejaVuSans-48\"/>\n       <use x=\"63.623047\" xlink:href=\"#DejaVuSans-46\"/>\n       <use x=\"95.410156\" xlink:href=\"#DejaVuSans-53\"/>\n       <use x=\"159.033203\" xlink:href=\"#DejaVuSans-48\"/>\n      </g>\n     </g>\n    </g>\n    <g id=\"text_14\">\n     <!-- Brier score -->\n     <g transform=\"translate(14.798438 142.948906)rotate(-90)scale(0.1 -0.1)\">\n      <defs>\n       <path d=\"M 19.671875 34.8125 \nL 19.671875 8.109375 \nL 35.5 8.109375 \nQ 43.453125 8.109375 47.28125 11.40625 \nQ 51.125 14.703125 51.125 21.484375 \nQ 51.125 28.328125 47.28125 31.5625 \nQ 43.453125 34.8125 35.5 34.8125 \nz\nM 19.671875 64.796875 \nL 19.671875 42.828125 \nL 34.28125 42.828125 \nQ 41.5 42.828125 45.03125 45.53125 \nQ 48.578125 48.25 48.578125 53.8125 \nQ 48.578125 59.328125 45.03125 62.0625 \nQ 41.5 64.796875 34.28125 64.796875 \nz\nM 9.8125 72.90625 \nL 35.015625 72.90625 \nQ 46.296875 72.90625 52.390625 68.21875 \nQ 58.5 63.53125 58.5 54.890625 \nQ 58.5 48.1875 55.375 44.234375 \nQ 52.25 40.28125 46.1875 39.3125 \nQ 53.46875 37.75 57.5 32.78125 \nQ 61.53125 27.828125 61.53125 20.40625 \nQ 61.53125 10.640625 54.890625 5.3125 \nQ 48.25 0 35.984375 0 \nL 9.8125 0 \nz\n\" id=\"DejaVuSans-66\"/>\n       <path d=\"M 41.109375 46.296875 \nQ 39.59375 47.171875 37.8125 47.578125 \nQ 36.03125 48 33.890625 48 \nQ 26.265625 48 22.1875 43.046875 \nQ 18.109375 38.09375 18.109375 28.8125 \nL 18.109375 0 \nL 9.078125 0 \nL 9.078125 54.6875 \nL 18.109375 54.6875 \nL 18.109375 46.1875 \nQ 20.953125 51.171875 25.484375 53.578125 \nQ 30.03125 56 36.53125 56 \nQ 37.453125 56 38.578125 55.875 \nQ 39.703125 55.765625 41.0625 55.515625 \nz\n\" id=\"DejaVuSans-114\"/>\n       <path d=\"M 9.421875 54.6875 \nL 18.40625 54.6875 \nL 18.40625 0 \nL 9.421875 0 \nz\nM 9.421875 75.984375 \nL 18.40625 75.984375 \nL 18.40625 64.59375 \nL 9.421875 64.59375 \nz\n\" id=\"DejaVuSans-105\"/>\n       <path d=\"M 44.28125 53.078125 \nL 44.28125 44.578125 \nQ 40.484375 46.53125 36.375 47.5 \nQ 32.28125 48.484375 27.875 48.484375 \nQ 21.1875 48.484375 17.84375 46.4375 \nQ 14.5 44.390625 14.5 40.28125 \nQ 14.5 37.15625 16.890625 35.375 \nQ 19.28125 33.59375 26.515625 31.984375 \nL 29.59375 31.296875 \nQ 39.15625 29.25 43.1875 25.515625 \nQ 47.21875 21.78125 47.21875 15.09375 \nQ 47.21875 7.46875 41.1875 3.015625 \nQ 35.15625 -1.421875 24.609375 -1.421875 \nQ 20.21875 -1.421875 15.453125 -0.5625 \nQ 10.6875 0.296875 5.421875 2 \nL 5.421875 11.28125 \nQ 10.40625 8.6875 15.234375 7.390625 \nQ 20.0625 6.109375 24.8125 6.109375 \nQ 31.15625 6.109375 34.5625 8.28125 \nQ 37.984375 10.453125 37.984375 14.40625 \nQ 37.984375 18.0625 35.515625 20.015625 \nQ 33.0625 21.96875 24.703125 23.78125 \nL 21.578125 24.515625 \nQ 13.234375 26.265625 9.515625 29.90625 \nQ 5.8125 33.546875 5.8125 39.890625 \nQ 5.8125 47.609375 11.28125 51.796875 \nQ 16.75 56 26.8125 56 \nQ 31.78125 56 36.171875 55.265625 \nQ 40.578125 54.546875 44.28125 53.078125 \nz\n\" id=\"DejaVuSans-115\"/>\n       <path d=\"M 48.78125 52.59375 \nL 48.78125 44.1875 \nQ 44.96875 46.296875 41.140625 47.34375 \nQ 37.3125 48.390625 33.40625 48.390625 \nQ 24.65625 48.390625 19.8125 42.84375 \nQ 14.984375 37.3125 14.984375 27.296875 \nQ 14.984375 17.28125 19.8125 11.734375 \nQ 24.65625 6.203125 33.40625 6.203125 \nQ 37.3125 6.203125 41.140625 7.25 \nQ 44.96875 8.296875 48.78125 10.40625 \nL 48.78125 2.09375 \nQ 45.015625 0.34375 40.984375 -0.53125 \nQ 36.96875 -1.421875 32.421875 -1.421875 \nQ 20.0625 -1.421875 12.78125 6.34375 \nQ 5.515625 14.109375 5.515625 27.296875 \nQ 5.515625 40.671875 12.859375 48.328125 \nQ 20.21875 56 33.015625 56 \nQ 37.15625 56 41.109375 55.140625 \nQ 45.0625 54.296875 48.78125 52.59375 \nz\n\" id=\"DejaVuSans-99\"/>\n      </defs>\n      <use xlink:href=\"#DejaVuSans-66\"/>\n      <use x=\"68.603516\" xlink:href=\"#DejaVuSans-114\"/>\n      <use x=\"109.716797\" xlink:href=\"#DejaVuSans-105\"/>\n      <use x=\"137.5\" xlink:href=\"#DejaVuSans-101\"/>\n      <use x=\"199.023438\" xlink:href=\"#DejaVuSans-114\"/>\n      <use x=\"240.136719\" xlink:href=\"#DejaVuSans-32\"/>\n      <use x=\"271.923828\" xlink:href=\"#DejaVuSans-115\"/>\n      <use x=\"324.023438\" xlink:href=\"#DejaVuSans-99\"/>\n      <use x=\"379.003906\" xlink:href=\"#DejaVuSans-111\"/>\n      <use x=\"440.185547\" xlink:href=\"#DejaVuSans-114\"/>\n      <use x=\"479.048828\" xlink:href=\"#DejaVuSans-101\"/>\n     </g>\n    </g>\n   </g>\n   <g id=\"line2d_13\">\n    <path clip-path=\"url(#p20362fd599)\" d=\"M 65.361932 17.083636 \nL 67.758496 115.457207 \nL 72.551624 170.654269 \nL 82.13788 199.534159 \nL 101.310393 211.284231 \nL 139.655418 213.622035 \nL 216.345468 214.02977 \nL 369.725568 214.756364 \n\" style=\"fill:none;stroke:#1f77b4;stroke-linecap:square;stroke-width:1.5;\"/>\n   </g>\n   <g id=\"line2d_14\">\n    <path clip-path=\"url(#p20362fd599)\" d=\"M 65.361932 204.071723 \nL 369.725568 204.071723 \n\" style=\"fill:none;stroke:#ff7f0e;stroke-linecap:square;stroke-width:1.5;\"/>\n   </g>\n   <g id=\"patch_3\">\n    <path d=\"M 50.14375 224.64 \nL 50.14375 7.2 \n\" style=\"fill:none;stroke:#000000;stroke-linecap:square;stroke-linejoin:miter;stroke-width:0.8;\"/>\n   </g>\n   <g id=\"patch_4\">\n    <path d=\"M 384.94375 224.64 \nL 384.94375 7.2 \n\" style=\"fill:none;stroke:#000000;stroke-linecap:square;stroke-linejoin:miter;stroke-width:0.8;\"/>\n   </g>\n   <g id=\"patch_5\">\n    <path d=\"M 50.14375 224.64 \nL 384.94375 224.64 \n\" style=\"fill:none;stroke:#000000;stroke-linecap:square;stroke-linejoin:miter;stroke-width:0.8;\"/>\n   </g>\n   <g id=\"patch_6\">\n    <path d=\"M 50.14375 7.2 \nL 384.94375 7.2 \n\" style=\"fill:none;stroke:#000000;stroke-linecap:square;stroke-linejoin:miter;stroke-width:0.8;\"/>\n   </g>\n   <g id=\"legend_1\">\n    <g id=\"patch_7\">\n     <path d=\"M 257.520313 44.55625 \nL 377.94375 44.55625 \nQ 379.94375 44.55625 379.94375 42.55625 \nL 379.94375 14.2 \nQ 379.94375 12.2 377.94375 12.2 \nL 257.520313 12.2 \nQ 255.520313 12.2 255.520313 14.2 \nL 255.520313 42.55625 \nQ 255.520313 44.55625 257.520313 44.55625 \nz\n\" style=\"fill:#ffffff;opacity:0.8;stroke:#cccccc;stroke-linejoin:miter;\"/>\n    </g>\n    <g id=\"line2d_15\">\n     <path d=\"M 259.520313 20.298437 \nL 279.520313 20.298437 \n\" style=\"fill:none;stroke:#1f77b4;stroke-linecap:square;stroke-width:1.5;\"/>\n    </g>\n    <g id=\"line2d_16\"/>\n    <g id=\"text_15\">\n     <!-- Brier score WRT k -->\n     <g transform=\"translate(287.520313 23.798437)scale(0.1 -0.1)\">\n      <defs>\n       <path d=\"M 3.328125 72.90625 \nL 13.28125 72.90625 \nL 28.609375 11.28125 \nL 43.890625 72.90625 \nL 54.984375 72.90625 \nL 70.3125 11.28125 \nL 85.59375 72.90625 \nL 95.609375 72.90625 \nL 77.296875 0 \nL 64.890625 0 \nL 49.515625 63.28125 \nL 33.984375 0 \nL 21.578125 0 \nz\n\" id=\"DejaVuSans-87\"/>\n       <path d=\"M 44.390625 34.1875 \nQ 47.5625 33.109375 50.5625 29.59375 \nQ 53.5625 26.078125 56.59375 19.921875 \nL 66.609375 0 \nL 56 0 \nL 46.6875 18.703125 \nQ 43.0625 26.03125 39.671875 28.421875 \nQ 36.28125 30.8125 30.421875 30.8125 \nL 19.671875 30.8125 \nL 19.671875 0 \nL 9.8125 0 \nL 9.8125 72.90625 \nL 32.078125 72.90625 \nQ 44.578125 72.90625 50.734375 67.671875 \nQ 56.890625 62.453125 56.890625 51.90625 \nQ 56.890625 45.015625 53.6875 40.46875 \nQ 50.484375 35.9375 44.390625 34.1875 \nz\nM 19.671875 64.796875 \nL 19.671875 38.921875 \nL 32.078125 38.921875 \nQ 39.203125 38.921875 42.84375 42.21875 \nQ 46.484375 45.515625 46.484375 51.90625 \nQ 46.484375 58.296875 42.84375 61.546875 \nQ 39.203125 64.796875 32.078125 64.796875 \nz\n\" id=\"DejaVuSans-82\"/>\n       <path d=\"M -0.296875 72.90625 \nL 61.375 72.90625 \nL 61.375 64.59375 \nL 35.5 64.59375 \nL 35.5 0 \nL 25.59375 0 \nL 25.59375 64.59375 \nL -0.296875 64.59375 \nz\n\" id=\"DejaVuSans-84\"/>\n      </defs>\n      <use xlink:href=\"#DejaVuSans-66\"/>\n      <use x=\"68.603516\" xlink:href=\"#DejaVuSans-114\"/>\n      <use x=\"109.716797\" xlink:href=\"#DejaVuSans-105\"/>\n      <use x=\"137.5\" xlink:href=\"#DejaVuSans-101\"/>\n      <use x=\"199.023438\" xlink:href=\"#DejaVuSans-114\"/>\n      <use x=\"240.136719\" xlink:href=\"#DejaVuSans-32\"/>\n      <use x=\"271.923828\" xlink:href=\"#DejaVuSans-115\"/>\n      <use x=\"324.023438\" xlink:href=\"#DejaVuSans-99\"/>\n      <use x=\"379.003906\" xlink:href=\"#DejaVuSans-111\"/>\n      <use x=\"440.185547\" xlink:href=\"#DejaVuSans-114\"/>\n      <use x=\"479.048828\" xlink:href=\"#DejaVuSans-101\"/>\n      <use x=\"540.572266\" xlink:href=\"#DejaVuSans-32\"/>\n      <use x=\"572.359375\" xlink:href=\"#DejaVuSans-87\"/>\n      <use x=\"671.236328\" xlink:href=\"#DejaVuSans-82\"/>\n      <use x=\"733.46875\" xlink:href=\"#DejaVuSans-84\"/>\n      <use x=\"794.552734\" xlink:href=\"#DejaVuSans-32\"/>\n      <use x=\"826.339844\" xlink:href=\"#DejaVuSans-107\"/>\n     </g>\n    </g>\n    <g id=\"line2d_17\">\n     <path d=\"M 259.520313 34.976562 \nL 279.520313 34.976562 \n\" style=\"fill:none;stroke:#ff7f0e;stroke-linecap:square;stroke-width:1.5;\"/>\n    </g>\n    <g id=\"line2d_18\"/>\n    <g id=\"text_16\">\n     <!-- Prior Brier score -->\n     <g transform=\"translate(287.520313 38.476562)scale(0.1 -0.1)\">\n      <defs>\n       <path d=\"M 19.671875 64.796875 \nL 19.671875 37.40625 \nL 32.078125 37.40625 \nQ 38.96875 37.40625 42.71875 40.96875 \nQ 46.484375 44.53125 46.484375 51.125 \nQ 46.484375 57.671875 42.71875 61.234375 \nQ 38.96875 64.796875 32.078125 64.796875 \nz\nM 9.8125 72.90625 \nL 32.078125 72.90625 \nQ 44.34375 72.90625 50.609375 67.359375 \nQ 56.890625 61.8125 56.890625 51.125 \nQ 56.890625 40.328125 50.609375 34.8125 \nQ 44.34375 29.296875 32.078125 29.296875 \nL 19.671875 29.296875 \nL 19.671875 0 \nL 9.8125 0 \nz\n\" id=\"DejaVuSans-80\"/>\n      </defs>\n      <use xlink:href=\"#DejaVuSans-80\"/>\n      <use x=\"58.552734\" xlink:href=\"#DejaVuSans-114\"/>\n      <use x=\"99.666016\" xlink:href=\"#DejaVuSans-105\"/>\n      <use x=\"127.449219\" xlink:href=\"#DejaVuSans-111\"/>\n      <use x=\"188.630859\" xlink:href=\"#DejaVuSans-114\"/>\n      <use x=\"229.744141\" xlink:href=\"#DejaVuSans-32\"/>\n      <use x=\"261.53125\" xlink:href=\"#DejaVuSans-66\"/>\n      <use x=\"330.134766\" xlink:href=\"#DejaVuSans-114\"/>\n      <use x=\"371.248047\" xlink:href=\"#DejaVuSans-105\"/>\n      <use x=\"399.03125\" xlink:href=\"#DejaVuSans-101\"/>\n      <use x=\"460.554688\" xlink:href=\"#DejaVuSans-114\"/>\n      <use x=\"501.667969\" xlink:href=\"#DejaVuSans-32\"/>\n      <use x=\"533.455078\" xlink:href=\"#DejaVuSans-115\"/>\n      <use x=\"585.554688\" xlink:href=\"#DejaVuSans-99\"/>\n      <use x=\"640.535156\" xlink:href=\"#DejaVuSans-111\"/>\n      <use x=\"701.716797\" xlink:href=\"#DejaVuSans-114\"/>\n      <use x=\"740.580078\" xlink:href=\"#DejaVuSans-101\"/>\n     </g>\n    </g>\n   </g>\n  </g>\n </g>\n <defs>\n  <clipPath id=\"p20362fd599\">\n   <rect height=\"217.44\" width=\"334.8\" x=\"50.14375\" y=\"7.2\"/>\n  </clipPath>\n </defs>\n</svg>\n",
      "image/png": "[encoded data removed]"
     },
     "metadata": {
      "needs_background": "light"
     }
    }
   ],
   "source": [
    "pl.plot(k_range, brier_scores, label='Brier score WRT k')\n",
    "pl.plot([k_range[0], k_range[-1]], [prior_brier_score, prior_brier_score], label='Prior Brier score')\n",
    "\n",
    "pl.xlabel('Value of k') \n",
    "pl.ylabel('Brier score')\n",
    "\n",
    "pl.legend(loc=0)"
   ]
  },
  {
   "source": [
    "Performance Evaluation"
   ],
   "cell_type": "markdown",
   "metadata": {}
  },
  {
   "cell_type": "code",
   "execution_count": 41,
   "metadata": {},
   "outputs": [
    {
     "output_type": "stream",
     "name": "stdout",
     "text": [
      "Brier score on test set with the KNN model\n0.2904930016955408\nBrier score on test using the prior class probability as a constant model\n0.29301964202920805\n"
     ]
    },
    {
     "output_type": "execute_result",
     "data": {
      "text/plain": [
       "<function print>"
      ]
     },
     "metadata": {},
     "execution_count": 41
    }
   ],
   "source": [
    "# Looking at the results - using the class weights here to adjust our performace evaluation.\n",
    "# I guess we could just use f-score instead?\n",
    "# The increase in classification performance isn't all that high in comparison to the prior model. This is because of the manner in which the class weights are specified because we have placed emphasis on the ambulation and transition activities that are harder to classify.\n",
    "\n",
    "knn_brier_score = brier_score(test_y, test_predicted, class_weights)\n",
    "\n",
    "print (\"Brier score on test set with the KNN model\")\n",
    "print (knn_brier_score)\n",
    "print \n",
    "\n",
    "# For comparison to the KNN model, test the prior class distribution  \n",
    "prior_matrix = np.repeat(class_prior.reshape((1, -1)), test_y.shape[0], axis=0)\n",
    "prior_brier_score = brier_score(test_y, prior_matrix, class_weights)\n",
    "\n",
    "print (\"Brier score on test using the prior class probability as a constant model\")\n",
    "print (prior_brier_score)\n",
    "print"
   ]
  },
  {
   "cell_type": "code",
   "execution_count": 49,
   "metadata": {},
   "outputs": [
    {
     "output_type": "execute_result",
     "data": {
      "text/plain": [
       "0.2904930016955408"
      ]
     },
     "metadata": {},
     "execution_count": 49
    }
   ],
   "source": [
    "np.power(test_y - test_predicted, 2.0).dot(class_weights).mean()"
   ]
  },
  {
   "cell_type": "code",
   "execution_count": 55,
   "metadata": {},
   "outputs": [
    {
     "output_type": "execute_result",
     "data": {
      "text/plain": [
       "array([0.        , 0.        , 0.        , 0.        , 0.20661157,\n",
       "       0.        , 0.        , 0.        , 0.        , 0.        ,\n",
       "       0.20661157, 0.        , 0.        , 0.        , 0.        ,\n",
       "       0.        , 0.        , 0.        , 0.        , 0.        ])"
      ]
     },
     "metadata": {},
     "execution_count": 55
    }
   ],
   "source": [
    "np.power(test_y - test_predicted, 2.0)[0,:]"
   ]
  },
  {
   "cell_type": "code",
   "execution_count": 77,
   "metadata": {},
   "outputs": [
    {
     "output_type": "stream",
     "name": "stdout",
     "text": [
      "0.0\n0.45454545454545453\n"
     ]
    }
   ],
   "source": [
    "print(test_y[0,:][4])\n",
    "print(test_predicted[0,:][4])\n"
   ]
  },
  {
   "cell_type": "code",
   "execution_count": 78,
   "metadata": {},
   "outputs": [
    {
     "output_type": "execute_result",
     "data": {
      "text/plain": [
       "0.20661157024793386"
      ]
     },
     "metadata": {},
     "execution_count": 78
    }
   ],
   "source": [
    "np.power(test_y - test_predicted,2.0)[0,:][4]"
   ]
  },
  {
   "cell_type": "code",
   "execution_count": null,
   "metadata": {},
   "outputs": [],
   "source": [
    ".dot(weight_vector)"
   ]
  }
 ]
}