{
 "cells": [
  {
   "cell_type": "code",
   "execution_count": 64,
   "metadata": {},
   "outputs": [],
   "source": [
    "import pandas as pd \n",
    "import numpy as np\n",
    "import seaborn as sns\n",
    "import matplotlib.pyplot as plt\n",
    "import matplotlib\n",
    "import time"
   ]
  },
  {
   "cell_type": "code",
   "execution_count": 65,
   "metadata": {},
   "outputs": [],
   "source": [
    "import importlib\n",
    "import os.path"
   ]
  },
  {
   "cell_type": "markdown",
   "metadata": {},
   "source": [
    "### Construct a data frame containing all training data sequences and combine with target probability distribution into one dataframe"
   ]
  },
  {
   "cell_type": "code",
   "execution_count": 66,
   "metadata": {},
   "outputs": [],
   "source": [
    "root = 'data/train'\n",
    "file_paths = os.listdir(root)\n",
    "rel_file_paths = [os.path.join(root, x) for x in file_paths]"
   ]
  },
  {
   "cell_type": "code",
   "execution_count": 67,
   "metadata": {},
   "outputs": [
    {
     "data": {
      "text/plain": [
       "'data/train\\\\00001'"
      ]
     },
     "execution_count": 67,
     "metadata": {},
     "output_type": "execute_result"
    }
   ],
   "source": [
    "rel_file_paths[1]"
   ]
  },
  {
   "cell_type": "code",
   "execution_count": 68,
   "metadata": {},
   "outputs": [
    {
     "name": "stdout",
     "output_type": "stream",
     "text": [
      "sequence 01, 4% of rows deleted\n",
      "sequence 02, 2% of rows deleted\n",
      "sequence 03, 5% of rows deleted\n",
      "sequence 04, 2% of rows deleted\n",
      "sequence 05, 3% of rows deleted\n",
      "sequence 06, 3% of rows deleted\n",
      "sequence 07, 1% of rows deleted\n",
      "sequence 08, 4% of rows deleted\n",
      "sequence 09, 1% of rows deleted\n",
      "sequence 10, 1% of rows deleted\n"
     ]
    }
   ],
   "source": [
    "training_sequences = []\n",
    "\n",
    "for i in range(1,len(rel_file_paths)):\n",
    "    sequence = pd.read_csv(rel_file_paths[i]+'/columns_1000ms.csv')\n",
    "    sequence_targets =  pd.read_csv(rel_file_paths[i]+'/targets.csv')\n",
    "    \n",
    "    if sequence.shape[0] == sequence_targets.shape[0]:\n",
    "        sequence_complete = pd.concat([sequence , sequence_targets] , axis = 1)\n",
    "        sequence_final = sequence_complete.dropna(subset=sequence_targets.columns) \n",
    "        deleted = ((sequence_complete.shape[0] - sequence_final.shape[0]) / sequence_complete.shape[0])*100\n",
    "        print('sequence ' + str(rel_file_paths[i][-2:]) + ', ' + str(int(deleted)) + '% of rows deleted')\n",
    "        training_sequences.append(sequence_final)\n",
    "        \n",
    "    else:\n",
    "        print('Number of rows for sequence data and target do not match for sequence ' + str(rel_file_paths[i][-2:]))"
   ]
  },
  {
   "cell_type": "code",
   "execution_count": 70,
   "metadata": {},
   "outputs": [
    {
     "data": {
      "text/html": [
       "<div>\n",
       "<style scoped>\n",
       "    .dataframe tbody tr th:only-of-type {\n",
       "        vertical-align: middle;\n",
       "    }\n",
       "\n",
       "    .dataframe tbody tr th {\n",
       "        vertical-align: top;\n",
       "    }\n",
       "\n",
       "    .dataframe thead th {\n",
       "        text-align: right;\n",
       "    }\n",
       "</style>\n",
       "<table border=\"1\" class=\"dataframe\">\n",
       "  <thead>\n",
       "    <tr style=\"text-align: right;\">\n",
       "      <th></th>\n",
       "      <th>acceleration_x_mean</th>\n",
       "      <th>acceleration_x_std</th>\n",
       "      <th>acceleration_x_min</th>\n",
       "      <th>acceleration_x_median</th>\n",
       "      <th>acceleration_x_max</th>\n",
       "      <th>acceleration_x_sum</th>\n",
       "      <th>acceleration_y_mean</th>\n",
       "      <th>acceleration_y_std</th>\n",
       "      <th>acceleration_y_min</th>\n",
       "      <th>acceleration_y_median</th>\n",
       "      <th>...</th>\n",
       "      <th>p_stand</th>\n",
       "      <th>t_bend</th>\n",
       "      <th>t_kneel_stand</th>\n",
       "      <th>t_lie_sit</th>\n",
       "      <th>t_sit_lie</th>\n",
       "      <th>t_sit_stand</th>\n",
       "      <th>t_stand_kneel</th>\n",
       "      <th>t_stand_sit</th>\n",
       "      <th>t_straighten</th>\n",
       "      <th>t_turn</th>\n",
       "    </tr>\n",
       "  </thead>\n",
       "  <tbody>\n",
       "    <tr>\n",
       "      <th>46</th>\n",
       "      <td>0.9668</td>\n",
       "      <td>0.112356</td>\n",
       "      <td>0.678</td>\n",
       "      <td>0.955</td>\n",
       "      <td>1.186</td>\n",
       "      <td>19.336</td>\n",
       "      <td>-0.4514</td>\n",
       "      <td>0.319798</td>\n",
       "      <td>-1.050</td>\n",
       "      <td>-0.321</td>\n",
       "      <td>...</td>\n",
       "      <td>0.00</td>\n",
       "      <td>0.0</td>\n",
       "      <td>0.0</td>\n",
       "      <td>0.0</td>\n",
       "      <td>0.0</td>\n",
       "      <td>0.0</td>\n",
       "      <td>0.0</td>\n",
       "      <td>0.0</td>\n",
       "      <td>0.0</td>\n",
       "      <td>0.00</td>\n",
       "    </tr>\n",
       "    <tr>\n",
       "      <th>47</th>\n",
       "      <td>0.3769</td>\n",
       "      <td>0.404018</td>\n",
       "      <td>-0.228</td>\n",
       "      <td>0.376</td>\n",
       "      <td>1.660</td>\n",
       "      <td>7.538</td>\n",
       "      <td>-0.4088</td>\n",
       "      <td>0.362220</td>\n",
       "      <td>-1.064</td>\n",
       "      <td>-0.326</td>\n",
       "      <td>...</td>\n",
       "      <td>0.00</td>\n",
       "      <td>0.0</td>\n",
       "      <td>0.0</td>\n",
       "      <td>0.0</td>\n",
       "      <td>0.0</td>\n",
       "      <td>0.0</td>\n",
       "      <td>0.0</td>\n",
       "      <td>0.0</td>\n",
       "      <td>0.0</td>\n",
       "      <td>0.00</td>\n",
       "    </tr>\n",
       "    <tr>\n",
       "      <th>48</th>\n",
       "      <td>0.6807</td>\n",
       "      <td>0.472910</td>\n",
       "      <td>-0.158</td>\n",
       "      <td>0.838</td>\n",
       "      <td>1.632</td>\n",
       "      <td>13.614</td>\n",
       "      <td>-0.3598</td>\n",
       "      <td>0.202494</td>\n",
       "      <td>-0.994</td>\n",
       "      <td>-0.350</td>\n",
       "      <td>...</td>\n",
       "      <td>0.50</td>\n",
       "      <td>0.0</td>\n",
       "      <td>0.0</td>\n",
       "      <td>0.0</td>\n",
       "      <td>0.0</td>\n",
       "      <td>0.0</td>\n",
       "      <td>0.0</td>\n",
       "      <td>0.0</td>\n",
       "      <td>0.0</td>\n",
       "      <td>0.00</td>\n",
       "    </tr>\n",
       "    <tr>\n",
       "      <th>49</th>\n",
       "      <td>0.8571</td>\n",
       "      <td>0.109839</td>\n",
       "      <td>0.470</td>\n",
       "      <td>0.879</td>\n",
       "      <td>1.020</td>\n",
       "      <td>17.142</td>\n",
       "      <td>-0.4462</td>\n",
       "      <td>0.119504</td>\n",
       "      <td>-0.820</td>\n",
       "      <td>-0.428</td>\n",
       "      <td>...</td>\n",
       "      <td>0.55</td>\n",
       "      <td>0.0</td>\n",
       "      <td>0.0</td>\n",
       "      <td>0.0</td>\n",
       "      <td>0.0</td>\n",
       "      <td>0.0</td>\n",
       "      <td>0.0</td>\n",
       "      <td>0.0</td>\n",
       "      <td>0.0</td>\n",
       "      <td>0.05</td>\n",
       "    </tr>\n",
       "    <tr>\n",
       "      <th>50</th>\n",
       "      <td>0.6775</td>\n",
       "      <td>0.233024</td>\n",
       "      <td>0.104</td>\n",
       "      <td>0.802</td>\n",
       "      <td>0.888</td>\n",
       "      <td>13.550</td>\n",
       "      <td>-0.6250</td>\n",
       "      <td>0.227178</td>\n",
       "      <td>-1.112</td>\n",
       "      <td>-0.538</td>\n",
       "      <td>...</td>\n",
       "      <td>0.50</td>\n",
       "      <td>0.0</td>\n",
       "      <td>0.0</td>\n",
       "      <td>0.0</td>\n",
       "      <td>0.0</td>\n",
       "      <td>0.0</td>\n",
       "      <td>0.0</td>\n",
       "      <td>0.0</td>\n",
       "      <td>0.0</td>\n",
       "      <td>0.50</td>\n",
       "    </tr>\n",
       "    <tr>\n",
       "      <th>...</th>\n",
       "      <td>...</td>\n",
       "      <td>...</td>\n",
       "      <td>...</td>\n",
       "      <td>...</td>\n",
       "      <td>...</td>\n",
       "      <td>...</td>\n",
       "      <td>...</td>\n",
       "      <td>...</td>\n",
       "      <td>...</td>\n",
       "      <td>...</td>\n",
       "      <td>...</td>\n",
       "      <td>...</td>\n",
       "      <td>...</td>\n",
       "      <td>...</td>\n",
       "      <td>...</td>\n",
       "      <td>...</td>\n",
       "      <td>...</td>\n",
       "      <td>...</td>\n",
       "      <td>...</td>\n",
       "      <td>...</td>\n",
       "      <td>...</td>\n",
       "    </tr>\n",
       "    <tr>\n",
       "      <th>1787</th>\n",
       "      <td>-0.8691</td>\n",
       "      <td>0.006587</td>\n",
       "      <td>-0.882</td>\n",
       "      <td>-0.868</td>\n",
       "      <td>-0.858</td>\n",
       "      <td>-17.382</td>\n",
       "      <td>0.3636</td>\n",
       "      <td>0.006248</td>\n",
       "      <td>0.352</td>\n",
       "      <td>0.366</td>\n",
       "      <td>...</td>\n",
       "      <td>1.00</td>\n",
       "      <td>0.0</td>\n",
       "      <td>0.0</td>\n",
       "      <td>0.0</td>\n",
       "      <td>0.0</td>\n",
       "      <td>0.0</td>\n",
       "      <td>0.0</td>\n",
       "      <td>0.0</td>\n",
       "      <td>0.0</td>\n",
       "      <td>0.00</td>\n",
       "    </tr>\n",
       "    <tr>\n",
       "      <th>1788</th>\n",
       "      <td>-0.8709</td>\n",
       "      <td>0.006913</td>\n",
       "      <td>-0.884</td>\n",
       "      <td>-0.868</td>\n",
       "      <td>-0.862</td>\n",
       "      <td>-17.418</td>\n",
       "      <td>0.3621</td>\n",
       "      <td>0.008955</td>\n",
       "      <td>0.344</td>\n",
       "      <td>0.365</td>\n",
       "      <td>...</td>\n",
       "      <td>1.00</td>\n",
       "      <td>0.0</td>\n",
       "      <td>0.0</td>\n",
       "      <td>0.0</td>\n",
       "      <td>0.0</td>\n",
       "      <td>0.0</td>\n",
       "      <td>0.0</td>\n",
       "      <td>0.0</td>\n",
       "      <td>0.0</td>\n",
       "      <td>0.00</td>\n",
       "    </tr>\n",
       "    <tr>\n",
       "      <th>1789</th>\n",
       "      <td>-0.8668</td>\n",
       "      <td>0.010685</td>\n",
       "      <td>-0.890</td>\n",
       "      <td>-0.866</td>\n",
       "      <td>-0.848</td>\n",
       "      <td>-17.336</td>\n",
       "      <td>0.3586</td>\n",
       "      <td>0.011868</td>\n",
       "      <td>0.328</td>\n",
       "      <td>0.359</td>\n",
       "      <td>...</td>\n",
       "      <td>1.00</td>\n",
       "      <td>0.0</td>\n",
       "      <td>0.0</td>\n",
       "      <td>0.0</td>\n",
       "      <td>0.0</td>\n",
       "      <td>0.0</td>\n",
       "      <td>0.0</td>\n",
       "      <td>0.0</td>\n",
       "      <td>0.0</td>\n",
       "      <td>0.00</td>\n",
       "    </tr>\n",
       "    <tr>\n",
       "      <th>1790</th>\n",
       "      <td>-0.8706</td>\n",
       "      <td>0.007800</td>\n",
       "      <td>-0.888</td>\n",
       "      <td>-0.869</td>\n",
       "      <td>-0.858</td>\n",
       "      <td>-17.412</td>\n",
       "      <td>0.3578</td>\n",
       "      <td>0.010157</td>\n",
       "      <td>0.328</td>\n",
       "      <td>0.358</td>\n",
       "      <td>...</td>\n",
       "      <td>1.00</td>\n",
       "      <td>0.0</td>\n",
       "      <td>0.0</td>\n",
       "      <td>0.0</td>\n",
       "      <td>0.0</td>\n",
       "      <td>0.0</td>\n",
       "      <td>0.0</td>\n",
       "      <td>0.0</td>\n",
       "      <td>0.0</td>\n",
       "      <td>0.00</td>\n",
       "    </tr>\n",
       "    <tr>\n",
       "      <th>1791</th>\n",
       "      <td>-0.8740</td>\n",
       "      <td>0.007483</td>\n",
       "      <td>-0.888</td>\n",
       "      <td>-0.873</td>\n",
       "      <td>-0.858</td>\n",
       "      <td>-17.480</td>\n",
       "      <td>0.3582</td>\n",
       "      <td>0.005212</td>\n",
       "      <td>0.350</td>\n",
       "      <td>0.358</td>\n",
       "      <td>...</td>\n",
       "      <td>1.00</td>\n",
       "      <td>0.0</td>\n",
       "      <td>0.0</td>\n",
       "      <td>0.0</td>\n",
       "      <td>0.0</td>\n",
       "      <td>0.0</td>\n",
       "      <td>0.0</td>\n",
       "      <td>0.0</td>\n",
       "      <td>0.0</td>\n",
       "      <td>0.00</td>\n",
       "    </tr>\n",
       "  </tbody>\n",
       "</table>\n",
       "<p>16104 rows × 388 columns</p>\n",
       "</div>"
      ],
      "text/plain": [
       "      acceleration_x_mean  acceleration_x_std  acceleration_x_min  \\\n",
       "46                 0.9668            0.112356               0.678   \n",
       "47                 0.3769            0.404018              -0.228   \n",
       "48                 0.6807            0.472910              -0.158   \n",
       "49                 0.8571            0.109839               0.470   \n",
       "50                 0.6775            0.233024               0.104   \n",
       "...                   ...                 ...                 ...   \n",
       "1787              -0.8691            0.006587              -0.882   \n",
       "1788              -0.8709            0.006913              -0.884   \n",
       "1789              -0.8668            0.010685              -0.890   \n",
       "1790              -0.8706            0.007800              -0.888   \n",
       "1791              -0.8740            0.007483              -0.888   \n",
       "\n",
       "      acceleration_x_median  acceleration_x_max  acceleration_x_sum  \\\n",
       "46                    0.955               1.186              19.336   \n",
       "47                    0.376               1.660               7.538   \n",
       "48                    0.838               1.632              13.614   \n",
       "49                    0.879               1.020              17.142   \n",
       "50                    0.802               0.888              13.550   \n",
       "...                     ...                 ...                 ...   \n",
       "1787                 -0.868              -0.858             -17.382   \n",
       "1788                 -0.868              -0.862             -17.418   \n",
       "1789                 -0.866              -0.848             -17.336   \n",
       "1790                 -0.869              -0.858             -17.412   \n",
       "1791                 -0.873              -0.858             -17.480   \n",
       "\n",
       "      acceleration_y_mean  acceleration_y_std  acceleration_y_min  \\\n",
       "46                -0.4514            0.319798              -1.050   \n",
       "47                -0.4088            0.362220              -1.064   \n",
       "48                -0.3598            0.202494              -0.994   \n",
       "49                -0.4462            0.119504              -0.820   \n",
       "50                -0.6250            0.227178              -1.112   \n",
       "...                   ...                 ...                 ...   \n",
       "1787               0.3636            0.006248               0.352   \n",
       "1788               0.3621            0.008955               0.344   \n",
       "1789               0.3586            0.011868               0.328   \n",
       "1790               0.3578            0.010157               0.328   \n",
       "1791               0.3582            0.005212               0.350   \n",
       "\n",
       "      acceleration_y_median  ...  p_stand  t_bend  t_kneel_stand  t_lie_sit  \\\n",
       "46                   -0.321  ...     0.00     0.0            0.0        0.0   \n",
       "47                   -0.326  ...     0.00     0.0            0.0        0.0   \n",
       "48                   -0.350  ...     0.50     0.0            0.0        0.0   \n",
       "49                   -0.428  ...     0.55     0.0            0.0        0.0   \n",
       "50                   -0.538  ...     0.50     0.0            0.0        0.0   \n",
       "...                     ...  ...      ...     ...            ...        ...   \n",
       "1787                  0.366  ...     1.00     0.0            0.0        0.0   \n",
       "1788                  0.365  ...     1.00     0.0            0.0        0.0   \n",
       "1789                  0.359  ...     1.00     0.0            0.0        0.0   \n",
       "1790                  0.358  ...     1.00     0.0            0.0        0.0   \n",
       "1791                  0.358  ...     1.00     0.0            0.0        0.0   \n",
       "\n",
       "      t_sit_lie  t_sit_stand  t_stand_kneel  t_stand_sit  t_straighten  t_turn  \n",
       "46          0.0          0.0            0.0          0.0           0.0    0.00  \n",
       "47          0.0          0.0            0.0          0.0           0.0    0.00  \n",
       "48          0.0          0.0            0.0          0.0           0.0    0.00  \n",
       "49          0.0          0.0            0.0          0.0           0.0    0.05  \n",
       "50          0.0          0.0            0.0          0.0           0.0    0.50  \n",
       "...         ...          ...            ...          ...           ...     ...  \n",
       "1787        0.0          0.0            0.0          0.0           0.0    0.00  \n",
       "1788        0.0          0.0            0.0          0.0           0.0    0.00  \n",
       "1789        0.0          0.0            0.0          0.0           0.0    0.00  \n",
       "1790        0.0          0.0            0.0          0.0           0.0    0.00  \n",
       "1791        0.0          0.0            0.0          0.0           0.0    0.00  \n",
       "\n",
       "[16104 rows x 388 columns]"
      ]
     },
     "execution_count": 70,
     "metadata": {},
     "output_type": "execute_result"
    }
   ],
   "source": [
    "training_data_full = pd.concat(training_sequences)\n",
    "training_data_full"
   ]
  },
  {
   "cell_type": "markdown",
   "metadata": {},
   "source": [
    "### Count the number of NANs per column"
   ]
  },
  {
   "cell_type": "code",
   "execution_count": 144,
   "metadata": {},
   "outputs": [],
   "source": [
    "training_data_trimmed = training_data_full.copy()"
   ]
  },
  {
   "cell_type": "code",
   "execution_count": 145,
   "metadata": {},
   "outputs": [],
   "source": [
    "na_vals_per_column = []\n",
    "for col in training_data_full.columns[:366]:\n",
    "    n = training_data_full[col].isna().sum()\n",
    "    na_vals_per_column.append(n)\n",
    "\n",
    "    if n > (len(training_data_full) / 2):\n",
    "        #print(col)\n",
    "        training_data_trimmed.drop(col , axis=1 , inplace=True)\n",
    "        "
   ]
  },
  {
   "cell_type": "code",
   "execution_count": 146,
   "metadata": {},
   "outputs": [
    {
     "data": {
      "text/plain": [
       "Text(10.049999999999997, 0.5, 'Frequency')"
      ]
     },
     "execution_count": 146,
     "metadata": {},
     "output_type": "execute_result"
    },
    {
     "data": {
      "image/png": "[encoded data removed]",
      "text/plain": [
       "<Figure size 360x360 with 1 Axes>"
      ]
     },
     "metadata": {
      "needs_background": "light"
     },
     "output_type": "display_data"
    }
   ],
   "source": [
    "sns.displot(na_vals_per_column, kde=False, color='red', bins=100)\n",
    "plt.title('Frequency vs Number of NANs per column', fontsize=18)\n",
    "plt.xlabel('Number of NANs', fontsize=16)\n",
    "plt.ylabel('Frequency', fontsize=16)"
   ]
  },
  {
   "cell_type": "code",
   "execution_count": 147,
   "metadata": {},
   "outputs": [
    {
     "data": {
      "text/html": [
       "<div>\n",
       "<style scoped>\n",
       "    .dataframe tbody tr th:only-of-type {\n",
       "        vertical-align: middle;\n",
       "    }\n",
       "\n",
       "    .dataframe tbody tr th {\n",
       "        vertical-align: top;\n",
       "    }\n",
       "\n",
       "    .dataframe thead th {\n",
       "        text-align: right;\n",
       "    }\n",
       "</style>\n",
       "<table border=\"1\" class=\"dataframe\">\n",
       "  <thead>\n",
       "    <tr style=\"text-align: right;\">\n",
       "      <th></th>\n",
       "      <th>acceleration_x_mean</th>\n",
       "      <th>acceleration_x_std</th>\n",
       "      <th>acceleration_x_min</th>\n",
       "      <th>acceleration_x_median</th>\n",
       "      <th>acceleration_x_max</th>\n",
       "      <th>acceleration_x_sum</th>\n",
       "      <th>acceleration_y_mean</th>\n",
       "      <th>acceleration_y_std</th>\n",
       "      <th>acceleration_y_min</th>\n",
       "      <th>acceleration_y_median</th>\n",
       "      <th>...</th>\n",
       "      <th>p_stand</th>\n",
       "      <th>t_bend</th>\n",
       "      <th>t_kneel_stand</th>\n",
       "      <th>t_lie_sit</th>\n",
       "      <th>t_sit_lie</th>\n",
       "      <th>t_sit_stand</th>\n",
       "      <th>t_stand_kneel</th>\n",
       "      <th>t_stand_sit</th>\n",
       "      <th>t_straighten</th>\n",
       "      <th>t_turn</th>\n",
       "    </tr>\n",
       "  </thead>\n",
       "  <tbody>\n",
       "    <tr>\n",
       "      <th>46</th>\n",
       "      <td>0.9668</td>\n",
       "      <td>0.112356</td>\n",
       "      <td>0.678</td>\n",
       "      <td>0.955</td>\n",
       "      <td>1.186</td>\n",
       "      <td>19.336</td>\n",
       "      <td>-0.4514</td>\n",
       "      <td>0.319798</td>\n",
       "      <td>-1.050</td>\n",
       "      <td>-0.321</td>\n",
       "      <td>...</td>\n",
       "      <td>0.00</td>\n",
       "      <td>0.0</td>\n",
       "      <td>0.0</td>\n",
       "      <td>0.0</td>\n",
       "      <td>0.0</td>\n",
       "      <td>0.0</td>\n",
       "      <td>0.0</td>\n",
       "      <td>0.0</td>\n",
       "      <td>0.0</td>\n",
       "      <td>0.00</td>\n",
       "    </tr>\n",
       "    <tr>\n",
       "      <th>47</th>\n",
       "      <td>0.3769</td>\n",
       "      <td>0.404018</td>\n",
       "      <td>-0.228</td>\n",
       "      <td>0.376</td>\n",
       "      <td>1.660</td>\n",
       "      <td>7.538</td>\n",
       "      <td>-0.4088</td>\n",
       "      <td>0.362220</td>\n",
       "      <td>-1.064</td>\n",
       "      <td>-0.326</td>\n",
       "      <td>...</td>\n",
       "      <td>0.00</td>\n",
       "      <td>0.0</td>\n",
       "      <td>0.0</td>\n",
       "      <td>0.0</td>\n",
       "      <td>0.0</td>\n",
       "      <td>0.0</td>\n",
       "      <td>0.0</td>\n",
       "      <td>0.0</td>\n",
       "      <td>0.0</td>\n",
       "      <td>0.00</td>\n",
       "    </tr>\n",
       "    <tr>\n",
       "      <th>48</th>\n",
       "      <td>0.6807</td>\n",
       "      <td>0.472910</td>\n",
       "      <td>-0.158</td>\n",
       "      <td>0.838</td>\n",
       "      <td>1.632</td>\n",
       "      <td>13.614</td>\n",
       "      <td>-0.3598</td>\n",
       "      <td>0.202494</td>\n",
       "      <td>-0.994</td>\n",
       "      <td>-0.350</td>\n",
       "      <td>...</td>\n",
       "      <td>0.50</td>\n",
       "      <td>0.0</td>\n",
       "      <td>0.0</td>\n",
       "      <td>0.0</td>\n",
       "      <td>0.0</td>\n",
       "      <td>0.0</td>\n",
       "      <td>0.0</td>\n",
       "      <td>0.0</td>\n",
       "      <td>0.0</td>\n",
       "      <td>0.00</td>\n",
       "    </tr>\n",
       "    <tr>\n",
       "      <th>49</th>\n",
       "      <td>0.8571</td>\n",
       "      <td>0.109839</td>\n",
       "      <td>0.470</td>\n",
       "      <td>0.879</td>\n",
       "      <td>1.020</td>\n",
       "      <td>17.142</td>\n",
       "      <td>-0.4462</td>\n",
       "      <td>0.119504</td>\n",
       "      <td>-0.820</td>\n",
       "      <td>-0.428</td>\n",
       "      <td>...</td>\n",
       "      <td>0.55</td>\n",
       "      <td>0.0</td>\n",
       "      <td>0.0</td>\n",
       "      <td>0.0</td>\n",
       "      <td>0.0</td>\n",
       "      <td>0.0</td>\n",
       "      <td>0.0</td>\n",
       "      <td>0.0</td>\n",
       "      <td>0.0</td>\n",
       "      <td>0.05</td>\n",
       "    </tr>\n",
       "    <tr>\n",
       "      <th>50</th>\n",
       "      <td>0.6775</td>\n",
       "      <td>0.233024</td>\n",
       "      <td>0.104</td>\n",
       "      <td>0.802</td>\n",
       "      <td>0.888</td>\n",
       "      <td>13.550</td>\n",
       "      <td>-0.6250</td>\n",
       "      <td>0.227178</td>\n",
       "      <td>-1.112</td>\n",
       "      <td>-0.538</td>\n",
       "      <td>...</td>\n",
       "      <td>0.50</td>\n",
       "      <td>0.0</td>\n",
       "      <td>0.0</td>\n",
       "      <td>0.0</td>\n",
       "      <td>0.0</td>\n",
       "      <td>0.0</td>\n",
       "      <td>0.0</td>\n",
       "      <td>0.0</td>\n",
       "      <td>0.0</td>\n",
       "      <td>0.50</td>\n",
       "    </tr>\n",
       "  </tbody>\n",
       "</table>\n",
       "<p>5 rows × 102 columns</p>\n",
       "</div>"
      ],
      "text/plain": [
       "    acceleration_x_mean  acceleration_x_std  acceleration_x_min  \\\n",
       "46               0.9668            0.112356               0.678   \n",
       "47               0.3769            0.404018              -0.228   \n",
       "48               0.6807            0.472910              -0.158   \n",
       "49               0.8571            0.109839               0.470   \n",
       "50               0.6775            0.233024               0.104   \n",
       "\n",
       "    acceleration_x_median  acceleration_x_max  acceleration_x_sum  \\\n",
       "46                  0.955               1.186              19.336   \n",
       "47                  0.376               1.660               7.538   \n",
       "48                  0.838               1.632              13.614   \n",
       "49                  0.879               1.020              17.142   \n",
       "50                  0.802               0.888              13.550   \n",
       "\n",
       "    acceleration_y_mean  acceleration_y_std  acceleration_y_min  \\\n",
       "46              -0.4514            0.319798              -1.050   \n",
       "47              -0.4088            0.362220              -1.064   \n",
       "48              -0.3598            0.202494              -0.994   \n",
       "49              -0.4462            0.119504              -0.820   \n",
       "50              -0.6250            0.227178              -1.112   \n",
       "\n",
       "    acceleration_y_median  ...  p_stand  t_bend  t_kneel_stand  t_lie_sit  \\\n",
       "46                 -0.321  ...     0.00     0.0            0.0        0.0   \n",
       "47                 -0.326  ...     0.00     0.0            0.0        0.0   \n",
       "48                 -0.350  ...     0.50     0.0            0.0        0.0   \n",
       "49                 -0.428  ...     0.55     0.0            0.0        0.0   \n",
       "50                 -0.538  ...     0.50     0.0            0.0        0.0   \n",
       "\n",
       "    t_sit_lie  t_sit_stand  t_stand_kneel  t_stand_sit  t_straighten  t_turn  \n",
       "46        0.0          0.0            0.0          0.0           0.0    0.00  \n",
       "47        0.0          0.0            0.0          0.0           0.0    0.00  \n",
       "48        0.0          0.0            0.0          0.0           0.0    0.00  \n",
       "49        0.0          0.0            0.0          0.0           0.0    0.05  \n",
       "50        0.0          0.0            0.0          0.0           0.0    0.50  \n",
       "\n",
       "[5 rows x 102 columns]"
      ]
     },
     "execution_count": 147,
     "metadata": {},
     "output_type": "execute_result"
    }
   ],
   "source": [
    "training_data_trimmed.head()"
   ]
  },
  {
   "cell_type": "markdown",
   "metadata": {},
   "source": [
    "### Impute the missing values with their mean for now"
   ]
  },
  {
   "cell_type": "code",
   "execution_count": 100,
   "metadata": {},
   "outputs": [],
   "source": [
    "for col in training_data_trimmed.columns:\n",
    "    training_data_trimmed[col].fillna(training_data_trimmed[col].mean(), inplace = True) "
   ]
  },
  {
   "cell_type": "code",
   "execution_count": 110,
   "metadata": {},
   "outputs": [
    {
     "name": "stdout",
     "output_type": "stream",
     "text": [
      "No nans remaining in the dataset\n"
     ]
    }
   ],
   "source": [
    "for col in training_data_trimmed.columns:\n",
    "    if training_data_trimmed[col].isna().sum() > 0: \n",
    "        print('you have some nans left in the dataset mate')\n",
    "        print(col)\n",
    "    else: \n",
    "        pass\n",
    "print('No nans remaining in the dataset')"
   ]
  },
  {
   "cell_type": "code",
   "execution_count": 151,
   "metadata": {},
   "outputs": [
    {
     "name": "stdout",
     "output_type": "stream",
     "text": [
      "already removed\n"
     ]
    }
   ],
   "source": [
    "#Drop the start and end columns \n",
    "try:\n",
    "    training_data_trimmed.drop(['start' , 'end'] , axis=1 , inplace=True)\n",
    "except KeyError:\n",
    "    print('already removed')"
   ]
  },
  {
   "cell_type": "markdown",
   "metadata": {},
   "source": [
    "### Assess level of agreement for the annotators"
   ]
  },
  {
   "cell_type": "code",
   "execution_count": 158,
   "metadata": {},
   "outputs": [],
   "source": [
    "targets = training_data_trimmed[target_cols].copy()\n",
    "targets['max'] = targets.max(axis = 1)"
   ]
  },
  {
   "cell_type": "code",
   "execution_count": 194,
   "metadata": {},
   "outputs": [
    {
     "data": {
      "image/png": "[encoded data removed]",
      "text/plain": [
       "<Figure size 360x360 with 1 Axes>"
      ]
     },
     "metadata": {
      "needs_background": "light"
     },
     "output_type": "display_data"
    }
   ],
   "source": [
    "ax = sns.displot(targets['max'], kde=False, color='blue')\n",
    "plt.title('Level of agreement amongst annotators across sequence time series', fontsize=18)\n",
    "plt.xlabel('Level of agreement', fontsize=16)\n",
    "plt.ylabel('Frequency', fontsize=16)\n",
    "plt.rcParams['figure.figsize']=(30,30)\n"
   ]
  },
  {
   "cell_type": "code",
   "execution_count": 203,
   "metadata": {},
   "outputs": [
    {
     "data": {
      "text/plain": [
       "\"for p in ax.patches:\\n    height = p.get_height() # get the height of each bar\\n    ax.text(x = p.get_x()+(p.get_width()/2), y = height+0.2 , s = '{:.0f}'.format(height) , ha = 'center')\""
      ]
     },
     "execution_count": 203,
     "metadata": {},
     "output_type": "execute_result"
    },
    {
     "data": {
      "image/png": "[encoded data removed]",
      "text/plain": [
       "<Figure size 720x360 with 1 Axes>"
      ]
     },
     "metadata": {
      "needs_background": "light"
     },
     "output_type": "display_data"
    }
   ],
   "source": [
    "ax = sns.histplot(targets['max'], kde=False, color='blue', stat=\"probability\" )\n",
    "plt.title('Level of agreement amongst annotators across sequence time series', fontsize=18)\n",
    "plt.xlabel('Level of agreement', fontsize=16)\n",
    "plt.ylabel('Frequency', fontsize=16)\n",
    "plt.rcParams['figure.figsize']=(10,4)\n",
    "\n",
    "'''for p in ax.patches:\n",
    "    height = p.get_height() # get the height of each bar\n",
    "    ax.text(x = p.get_x()+(p.get_width()/2), y = height+0.2 , s = '{:.0f}'.format(height) , ha = 'center')'''\n",
    "\n",
    "    "
   ]
  },
  {
   "cell_type": "code",
   "execution_count": null,
   "metadata": {},
   "outputs": [],
   "source": [
    "\n",
    "# label each bar in histogram\n",
    "for p in ax.patches:\n",
    "    # adding text to each bar\n",
    "    ax.text(x = p.get_x()+(p.get_width()/2) # x-coordinate position of data label, padded to be in the middle of the bar\n",
    "    y = height+0.2, # y-coordinate position of data label, padded 0.2 above bar\n",
    "    s = '{:.0f}'.format(height) # data label, formatted to ignore decimals\n",
    "    #ha = 'center' # sets horizontal alignment (ha) to center"
   ]
  },
  {
   "cell_type": "code",
   "execution_count": null,
   "metadata": {},
   "outputs": [],
   "source": [
    "#Trying to generate a table to show percentage of datapoints with different max "
   ]
  },
  {
   "cell_type": "code",
   "execution_count": 210,
   "metadata": {},
   "outputs": [],
   "source": [
    "max_target_val = targets['max']"
   ]
  },
  {
   "cell_type": "code",
   "execution_count": 208,
   "metadata": {},
   "outputs": [],
   "source": [
    "#Table values to be in range from 0.4 to 1\n",
    "label_confidence = [i/100 for i in range(40,105,5)]"
   ]
  },
  {
   "cell_type": "code",
   "execution_count": 213,
   "metadata": {},
   "outputs": [],
   "source": [
    "percentage_of_datapoints = []\n",
    "\n",
    "for i in label_confidence:\n",
    "    count = 0 \n",
    "    for j in max_target_val: \n",
    "        if j >= i:\n",
    "            count += 1 \n",
    "    percentage_of_datapoints.append((count*100)/len(max_target_val))"
   ]
  },
  {
   "cell_type": "code",
   "execution_count": 218,
   "metadata": {},
   "outputs": [],
   "source": [
    "label_confidence_df = pd.DataFrame(list(zip(label_confidence, percentage_of_datapoints)), columns =['label_confidence', 'percentage_of_datapoints'])"
   ]
  },
  {
   "cell_type": "code",
   "execution_count": 219,
   "metadata": {},
   "outputs": [
    {
     "data": {
      "text/html": [
       "<div>\n",
       "<style scoped>\n",
       "    .dataframe tbody tr th:only-of-type {\n",
       "        vertical-align: middle;\n",
       "    }\n",
       "\n",
       "    .dataframe tbody tr th {\n",
       "        vertical-align: top;\n",
       "    }\n",
       "\n",
       "    .dataframe thead th {\n",
       "        text-align: right;\n",
       "    }\n",
       "</style>\n",
       "<table border=\"1\" class=\"dataframe\">\n",
       "  <thead>\n",
       "    <tr style=\"text-align: right;\">\n",
       "      <th></th>\n",
       "      <th>label_confidence</th>\n",
       "      <th>percentage_of_datapoints</th>\n",
       "    </tr>\n",
       "  </thead>\n",
       "  <tbody>\n",
       "    <tr>\n",
       "      <th>0</th>\n",
       "      <td>0.40</td>\n",
       "      <td>99.925484</td>\n",
       "    </tr>\n",
       "    <tr>\n",
       "      <th>1</th>\n",
       "      <td>0.45</td>\n",
       "      <td>99.714357</td>\n",
       "    </tr>\n",
       "    <tr>\n",
       "      <th>2</th>\n",
       "      <td>0.50</td>\n",
       "      <td>99.484600</td>\n",
       "    </tr>\n",
       "    <tr>\n",
       "      <th>3</th>\n",
       "      <td>0.55</td>\n",
       "      <td>93.833830</td>\n",
       "    </tr>\n",
       "    <tr>\n",
       "      <th>4</th>\n",
       "      <td>0.60</td>\n",
       "      <td>91.610780</td>\n",
       "    </tr>\n",
       "    <tr>\n",
       "      <th>5</th>\n",
       "      <td>0.65</td>\n",
       "      <td>87.586935</td>\n",
       "    </tr>\n",
       "    <tr>\n",
       "      <th>6</th>\n",
       "      <td>0.70</td>\n",
       "      <td>86.140089</td>\n",
       "    </tr>\n",
       "    <tr>\n",
       "      <th>7</th>\n",
       "      <td>0.75</td>\n",
       "      <td>81.718828</td>\n",
       "    </tr>\n",
       "    <tr>\n",
       "      <th>8</th>\n",
       "      <td>0.80</td>\n",
       "      <td>80.079483</td>\n",
       "    </tr>\n",
       "    <tr>\n",
       "      <th>9</th>\n",
       "      <td>0.85</td>\n",
       "      <td>76.440636</td>\n",
       "    </tr>\n",
       "    <tr>\n",
       "      <th>10</th>\n",
       "      <td>0.90</td>\n",
       "      <td>74.646051</td>\n",
       "    </tr>\n",
       "    <tr>\n",
       "      <th>11</th>\n",
       "      <td>0.95</td>\n",
       "      <td>70.833333</td>\n",
       "    </tr>\n",
       "    <tr>\n",
       "      <th>12</th>\n",
       "      <td>1.00</td>\n",
       "      <td>69.659712</td>\n",
       "    </tr>\n",
       "  </tbody>\n",
       "</table>\n",
       "</div>"
      ],
      "text/plain": [
       "    label_confidence  percentage_of_datapoints\n",
       "0               0.40                 99.925484\n",
       "1               0.45                 99.714357\n",
       "2               0.50                 99.484600\n",
       "3               0.55                 93.833830\n",
       "4               0.60                 91.610780\n",
       "5               0.65                 87.586935\n",
       "6               0.70                 86.140089\n",
       "7               0.75                 81.718828\n",
       "8               0.80                 80.079483\n",
       "9               0.85                 76.440636\n",
       "10              0.90                 74.646051\n",
       "11              0.95                 70.833333\n",
       "12              1.00                 69.659712"
      ]
     },
     "execution_count": 219,
     "metadata": {},
     "output_type": "execute_result"
    }
   ],
   "source": [
    "label_confidence_df"
   ]
  },
  {
   "cell_type": "markdown",
   "metadata": {},
   "source": [
    "### Implement a baseline algorithm"
   ]
  },
  {
   "cell_type": "code",
   "execution_count": 132,
   "metadata": {},
   "outputs": [],
   "source": [
    "target_cols = training_data_trimmed.columns[-20:]\n",
    "feature_cols = training_data_trimmed.columns[:80]"
   ]
  },
  {
   "cell_type": "code",
   "execution_count": 140,
   "metadata": {},
   "outputs": [],
   "source": [
    "train_x = training_data_trimmed[feature_cols].values\n",
    "train_y = training_data_trimmed[target_cols].values"
   ]
  },
  {
   "cell_type": "code",
   "execution_count": 139,
   "metadata": {},
   "outputs": [
    {
     "data": {
      "text/plain": [
       "80"
      ]
     },
     "execution_count": 139,
     "metadata": {},
     "output_type": "execute_result"
    }
   ],
   "source": []
  },
  {
   "cell_type": "code",
   "execution_count": null,
   "metadata": {},
   "outputs": [],
   "source": []
  }
 ],
 "metadata": {
  "kernelspec": {
   "display_name": "Python 3",
   "language": "python",
   "name": "python3"
  },
  "language_info": {
   "codemirror_mode": {
    "name": "ipython",
    "version": 3
   },
   "file_extension": ".py",
   "mimetype": "text/x-python",
   "name": "python",
   "nbconvert_exporter": "python",
   "pygments_lexer": "ipython3",
   "version": "3.7.9"
  }
 },
 "nbformat": 4,
 "nbformat_minor": 4
}
